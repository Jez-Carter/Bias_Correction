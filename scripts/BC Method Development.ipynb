{
 "cells": [
  {
   "cell_type": "code",
   "execution_count": 1,
   "id": "02b0048b-220b-49b1-a87f-118e92ef2c18",
   "metadata": {},
   "outputs": [],
   "source": [
    "%load_ext lab_black"
   ]
  },
  {
   "cell_type": "code",
   "execution_count": 2,
   "id": "2ee65868-5d05-4639-97e1-6e1f08b7350b",
   "metadata": {},
   "outputs": [],
   "source": [
    "# Google Colab\n",
    "#!git clone https://github.com/Jez-Carter/Bias_Correction\n",
    "# !pip install numpyro"
   ]
  },
  {
   "cell_type": "code",
   "execution_count": 3,
   "id": "561b92be",
   "metadata": {},
   "outputs": [],
   "source": [
    "# Importing Packages\n",
    "\n",
    "import os\n",
    "import timeit\n",
    "import numpy as np\n",
    "import matplotlib.pyplot as plt\n",
    "import matplotlib as mpl\n",
    "\n",
    "mpl.rc(\"figure\", figsize=(10, 10))\n",
    "os.environ[\"PROJ_LIB\"] = \"C:\\\\Utilities\\\\Python\\\\Anaconda\\\\Library\\\\share\"\n",
    "import numpyro\n",
    "from numpyro.diagnostics import hpdi\n",
    "import numpyro.distributions as dist\n",
    "from numpyro import handlers\n",
    "from numpyro.infer import MCMC, NUTS, HMC, BarkerMH\n",
    "from numpyro.distributions import constraints\n",
    "import jax.numpy as jnp\n",
    "from jax import random, vmap, jit\n",
    "import jax.scipy.stats.gamma as jgamma\n",
    "\n",
    "# Importing Project Modules:\n",
    "from src.netcdf_functions import pcolormesh_basemapplot"
   ]
  },
  {
   "cell_type": "markdown",
   "id": "33d5d8d6",
   "metadata": {},
   "source": [
    "# Estimating PDF parameter values"
   ]
  },
  {
   "cell_type": "markdown",
   "id": "5ece7ad8",
   "metadata": {},
   "source": [
    "From previous literature (Lima, 2021, https://doi.org/10.1016/j.jhydrol.2021.126095) it seems reasonable to assume a Bernoulli-Gamma distribution for daily snowfall. This has the form:\n",
    "\n",
    "$P(Y_{jk}=y_{jk}) = B(1,p_{jk})\\cdot G(y_{jk}|\\alpha_{jk},\\beta_{jk})$\n",
    "\n",
    "$B(1,p_{jk})\\cdot G(y_{jk}|\\alpha_{jk},\\beta_{jk}) = \\ p_{jk} \\cdot \\dfrac{{\\beta_{jk}}^{\\alpha_{jk}} y_{jk}^{\\alpha_{jk}-1}e^{-\\beta_{jk} y_{jk}}}{\\Gamma(\\alpha_{jk})} \\} \\text{Rainfall} $ \n",
    "\n",
    "$\\ \\ \\ \\ \\ \\ \\ \\ \\ \\ \\ \\ \\ \\ \\ \\ \\ \\ \\ \\ \\ \\ \\ \\ \\ \\ \\ \\ \\ \\ \\ \\ \\ \\ \\ (1-p_{jk}) \\ \\ \\ \\ \\ \\ \\ \\ \\ \\ \\ \\} \\text{No Rainfall}$"
   ]
  },
  {
   "cell_type": "markdown",
   "id": "6ef14a10",
   "metadata": {},
   "source": [
    "The Bernoulli part gives the probability of rainfall (p) or no rainfall (1-p) on a given day at the site \\(j\\) for month \\(k\\) and the Gamma part gives the probability of an intensity of rainfall ($y_{jk}$) on that day given rainfall occurs. The gamma distribution has shape parameter $\\alpha$ and scale parameter $\\beta$. Note: it makes sense to include a Bernoulli term because of the discontinuity expected for the probability of no rainfall. The shape/scale parameters $\\alpha$ and $\\beta$ are estimated at every rainfall gauge and for each month of the year. "
   ]
  },
  {
   "cell_type": "markdown",
   "id": "70b12a59",
   "metadata": {},
   "source": [
    "Bayesian inference is used to estimate the parameters $p,\\alpha,\\beta$ for every rainfall gauge and month. \n",
    "\n",
    "\\begin{equation}\n",
    "    P(\\boldsymbol{p,\\alpha,\\beta}|\\boldsymbol{y}) = P(\\boldsymbol{y}|\\boldsymbol{p,\\alpha,\\beta}) \\cdot \\dfrac{P(\\boldsymbol{\\boldsymbol{p,\\alpha,\\beta}})}{P(\\boldsymbol{y})} \\propto P(\\boldsymbol{y}|\\boldsymbol{p,\\alpha,\\beta})\\cdot P(\\boldsymbol{p,\\alpha,\\beta})\n",
    "\\end{equation}\n",
    "\n",
    "\\begin{equation}\n",
    "    P(\\boldsymbol{y}|\\boldsymbol{p,\\alpha,\\beta}) \\cdot P(\\boldsymbol{\\boldsymbol{p,\\alpha,\\beta}}) =\n",
    "    (\\prod_{jk} B(1,p_{jk})\\cdot G(y_{jk}|\\alpha_{jk},\\beta_{jk})) \\cdot P(\\boldsymbol{p,\\alpha,\\beta})\n",
    "\\end{equation}"
   ]
  },
  {
   "cell_type": "markdown",
   "id": "db6bba70",
   "metadata": {
    "tags": []
   },
   "source": [
    "## Bayesian Inference"
   ]
  },
  {
   "cell_type": "markdown",
   "id": "4e07dff7-4147-44ec-8da4-500a65a877e6",
   "metadata": {},
   "source": [
    "We are treating the parameters $[p,\\alpha,\\beta]$ as stochastic variables here with probability distributions to estimate (the posterior distribution). In addition to simply estimating the parameters that maximise our likelihood, this also allows us to estimate a credible interval and plot the uncertainty on our modelled PDF of snowfall."
   ]
  },
  {
   "cell_type": "markdown",
   "id": "e2ebecd7-a468-4a48-8938-7cb5a1fca7eb",
   "metadata": {},
   "source": [
    "$Posterior = \\dfrac{Likelihood \\cdot Prior}{Normalising Constant} $\n",
    "\n",
    "$P(\\boldsymbol{p,\\alpha,\\beta}|\\boldsymbol{y}) = \\dfrac{P(\\boldsymbol{y}|\\boldsymbol{p,\\alpha,\\beta}) \\cdot P(\\boldsymbol{\\boldsymbol{p,\\alpha,\\beta}})}{P(\\boldsymbol{y})} $\n",
    "\n",
    "$P(\\boldsymbol{y}|\\boldsymbol{p,\\alpha,\\beta})\\cdot P(\\boldsymbol{p,\\alpha,\\beta}) = \\prod_{i} B(1,p)\\cdot G(y_{i}|\\alpha,\\beta)\\cdot P(p,\\alpha,\\beta)$\n",
    "\n",
    "$P(\\boldsymbol{y}) = \\iiint\\limits_{\\theta} P(\\boldsymbol{y}|\\boldsymbol{p,\\alpha,\\beta})\\cdot P(\\boldsymbol{p,\\alpha,\\beta}) \\,dp\\,d\\alpha\\,d\\beta$\n",
    "\n",
    "Note we don't need the normalising constant to estimate the most likely values of the parameters $\\theta=[p,\\alpha,\\beta]$ (MAP), but we do need it for normalising the distributions of the parameters and so for uncertainty estimates. Note also that MLE is just MAP but with uniform priors and that MAP is not much more difficult than MLE and can be done with a basic minimizer. The point of full Bayesian inference is we are actually getting a posterior probability, which is harder to do than to just maximise it. This gives us a distribution over the parameters with which to construct credibility intervals. \n"
   ]
  },
  {
   "cell_type": "markdown",
   "id": "eaf47094-e6d9-41df-8047-efc0466d1371",
   "metadata": {
    "tags": []
   },
   "source": [
    "## Multiple Sites, Multiple Months Example"
   ]
  },
  {
   "cell_type": "markdown",
   "id": "c9be223d-32bd-4927-a04c-f0a6fc07db84",
   "metadata": {},
   "source": [
    "For multiple sites (j) and multiple months (k) we have:\n",
    "\n",
    "$P(\\boldsymbol{Y}=\\boldsymbol{y_i}) = B(1,\\boldsymbol{p})\\cdot G(\\boldsymbol{y_i}|\\boldsymbol{\\alpha},\\boldsymbol{\\beta})$\n",
    "\n",
    "Where:\n",
    "\n",
    "$\\boldsymbol{Y}=[Y_{00},Y_{01},Y_{1,0},...,Y_{jk}]$\n",
    "\n",
    "$\\boldsymbol{y}=[y_{00},y_{01},y_{1,0},...,y_{jk}]$\n",
    "\n",
    "$\\boldsymbol{p}=[p_{00},p_{01},p_{1,0},...,p_{jk}]$\n",
    "\n",
    "$\\boldsymbol{\\alpha}=[\\alpha_{00},\\alpha_{01},\\alpha_{1,0},...,\\alpha_{jk}]$\n",
    "\n",
    "$\\boldsymbol{\\beta}=[\\beta_{00},\\beta_{01},\\beta_{1,0},...,\\beta_{jk}]$\n",
    "\n",
    "$P(Y_{jk}=y_{jk}) = B(1,p_{jk})\\cdot G(y_{jk}|\\alpha_{jk},\\beta_{jk})$\n",
    "\n",
    "$B(1,p_{jk})\\cdot G(y_{jk}|\\alpha_{jk},\\beta_{jk}) = \\ p_{jk} \\cdot \\dfrac{{\\beta_{jk}}^{\\alpha_{jk}} y_{jk}^{\\alpha_{jk}-1}e^{-\\beta_{jk} y_{jk}}}{\\Gamma(\\alpha_{jk})} \\} \\text{Rainfall} $ \n",
    "\n",
    "$\\ \\ \\ \\ \\ \\ \\ \\ \\ \\ \\ \\ \\ \\ \\ \\ \\ \\ \\ \\ \\ \\ \\ \\ \\ \\ \\ \\ \\ \\ \\ \\ \\ \\ \\ (1-p_{jk}) \\ \\ \\ \\ \\ \\ \\ \\ \\ \\ \\ \\} \\text{No Rainfall}$\n",
    "\n",
    "Now in Lima, 2021 to deal with the impact of seasonality the model is run for individual months (k) at a time. It is also noted that there exists a spatial correlation between $\\alpha_{jk}$ and $\\beta_{jk}$, which we want to preserve in the model and so we specify $\\beta_{jk}$ as a log normally distributed linear function of $\\alpha_{jk}$:\n",
    "\n",
    "$\\beta_{jk} \\sim  LN(a_0+a_1 \\cdot \\alpha_{jk},\\sigma^{2})$\n",
    "\n",
    "The set of parameters $[a_0,a_1,\\sigma]$ are hyper-parameters, in that they are not dependent on j (Note they are allowed to be dependent on k).\n",
    "\n",
    "\n",
    "$Likelihood = P(\\boldsymbol{Y}|\\boldsymbol{p},\\boldsymbol{\\alpha},\\beta) = \\prod_\\limits{jk}P(Y_{jk}|p_{jk},\\alpha_{jk},a_{0k},a_{1k},{\\sigma_k}^2) = \\prod_\\limits{ijk} B(1,p_{jk})\\cdot G(y_{i}|\\alpha_{jk},a_{0k},a_{1k},{\\sigma_k}^2)$\n",
    "\n",
    "$Log Likehood = Log(\\prod_\\limits{ijk} B(1,p_{jk})\\cdot G(y_{i}|\\alpha_{jk},a_{0k},a_{1k},{\\sigma_k}^2)) = \\sum_\\limits{ijk} Log(B(1,p_{jk})\\cdot G(y_{i}|\\alpha_{jk},a_{0k},a_{1k},{\\sigma_k}^2))$"
   ]
  },
  {
   "cell_type": "markdown",
   "id": "1a055a91-e22f-49ea-bd4e-ee2cda861fe2",
   "metadata": {},
   "source": [
    "### Bayesian Inference"
   ]
  },
  {
   "cell_type": "code",
   "execution_count": 4,
   "id": "91e54e66-1153-417d-916f-b39b861f1b59",
   "metadata": {},
   "outputs": [],
   "source": [
    "jan_data = np.load(\n",
    "    \"/data/notebooks/jupyterlab-biascorrlab/data/multi_site_jan_precip.npy\"\n",
    ")  # This is 38 years of daily data for January\n",
    "\n",
    "feb_data = np.load(\n",
    "    \"/data/notebooks/jupyterlab-biascorrlab/data/multi_site_feb_precip.npy\"\n",
    ")  # This is 38 years of daily data for February"
   ]
  },
  {
   "cell_type": "code",
   "execution_count": 5,
   "id": "1a2c8152-f193-48bb-b08c-ebded37ceefc",
   "metadata": {},
   "outputs": [],
   "source": [
    "data_list = [jan_data, feb_data]"
   ]
  },
  {
   "cell_type": "code",
   "execution_count": 6,
   "id": "72f973d6-2c11-46f9-8f62-e7bf899bc395",
   "metadata": {},
   "outputs": [
    {
     "data": {
      "image/png": "[encoded data removed]",
      "text/plain": [
       "<Figure size 720x720 with 1 Axes>"
      ]
     },
     "metadata": {
      "needs_background": "light"
     },
     "output_type": "display_data"
    }
   ],
   "source": [
    "# Plotting the Probability Distributions for each Site for January as a Histogram\n",
    "\n",
    "for i in np.arange(0, 5, 1):\n",
    "    data = data_list[0][:, i]\n",
    "    bins = np.arange(0, 5, 0.1)\n",
    "    bin_width = bins[1] - bins[0]\n",
    "    p = len(data[data != 0]) / len(data)\n",
    "    weight_value = p / bin_width / len(data[data != 0])\n",
    "    weights = np.full(len(data[data != 0]), weight_value)\n",
    "\n",
    "    color = next(plt.gca()._get_lines.prop_cycler)[\"color\"]\n",
    "    plt.hist(\n",
    "        data[data != 0],\n",
    "        bins=bins,\n",
    "        histtype=\"step\",\n",
    "        stacked=True,\n",
    "        fill=False,\n",
    "        weights=weights,\n",
    "        color=color,\n",
    "    )\n",
    "    plt.plot(0, 1 - len(data[data != 0]) / len(data), marker=\"o\", color=color, label=i)\n",
    "    plt.xlabel(\"Daily Snowfall\", fontsize=12)\n",
    "    plt.ylabel(\"Probability Density\", fontsize=12)\n",
    "    plt.legend()\n",
    "    # plt.show()"
   ]
  },
  {
   "cell_type": "code",
   "execution_count": 7,
   "id": "43cb3d09-f829-4091-8be4-affbd6b2873c",
   "metadata": {},
   "outputs": [],
   "source": [
    "# Converting dataset to jax dataset\n",
    "jdata_list = [jnp.array(jan_data), jnp.array(feb_data)]"
   ]
  },
  {
   "cell_type": "code",
   "execution_count": 8,
   "id": "a7227ebf-2552-4433-ac21-2d4b25f9d131",
   "metadata": {},
   "outputs": [],
   "source": [
    "class BernoulliGamma(numpyro.distributions.Distribution):\n",
    "    support = constraints.positive\n",
    "\n",
    "    def __init__(self, params):\n",
    "        self.p = params[0]\n",
    "        self.alpha = params[1]\n",
    "        self.scale = params[2]\n",
    "        super().__init__(batch_shape=jnp.shape(params[0]), event_shape=())\n",
    "\n",
    "    def sample(self, key, sample_shape=()):\n",
    "        raise NotImplementedError\n",
    "\n",
    "    def log_prob(self, value):\n",
    "\n",
    "        return jnp.log(1 - self.p) * jnp.sum(\n",
    "            jnp.where(value == 0, 1, 0), axis=0\n",
    "        ) + jnp.sum(\n",
    "            jnp.where(\n",
    "                value != 0,\n",
    "                jnp.log(\n",
    "                    self.p\n",
    "                    * jgamma.pdf(\n",
    "                        jnp.where(value == 0, 1, value),\n",
    "                        a=self.alpha,\n",
    "                        loc=0,\n",
    "                        scale=self.scale,\n",
    "                    )  # Note I use np.where because jax and jit compiling doesn't work with list comprehension (e.g. [value[value!=0]]) (In addition I use it to avoid computing gamma for values of 0).\n",
    "                ),\n",
    "                0,\n",
    "            ),\n",
    "            axis=0,\n",
    "        )"
   ]
  },
  {
   "cell_type": "code",
   "execution_count": 9,
   "id": "0acdbe50-f1c4-41b3-aad7-aa2422f4c27e",
   "metadata": {
    "tags": []
   },
   "outputs": [
    {
     "data": {
      "image/svg+xml": [
       "<?xml version=\"1.0\" encoding=\"UTF-8\" standalone=\"no\"?>\n",
       "<!DOCTYPE svg PUBLIC \"-//W3C//DTD SVG 1.1//EN\"\n",
       " \"http://www.w3.org/Graphics/SVG/1.1/DTD/svg11.dtd\">\n",
       "<!-- Generated by graphviz version 2.43.0 (0)\n",
       " -->\n",
       "<!-- Title: %3 Pages: 1 -->\n",
       "<svg width=\"734pt\" height=\"364pt\"\n",
       " viewBox=\"0.00 0.00 733.50 364.00\" xmlns=\"http://www.w3.org/2000/svg\" xmlns:xlink=\"http://www.w3.org/1999/xlink\">\n",
       "<g id=\"graph0\" class=\"graph\" transform=\"scale(1 1) rotate(0) translate(4 360)\">\n",
       "<title>%3</title>\n",
       "<polygon fill=\"white\" stroke=\"transparent\" points=\"-4,4 -4,-360 729.5,-360 729.5,4 -4,4\"/>\n",
       "<g id=\"clust1\" class=\"cluster\">\n",
       "<title>cluster_Sites</title>\n",
       "<polygon fill=\"none\" stroke=\"black\" points=\"62,-8 62,-295.5 400,-295.5 400,-8 62,-8\"/>\n",
       "<text text-anchor=\"middle\" x=\"378.5\" y=\"-15.8\" font-family=\"Times,serif\" font-size=\"14.00\">Sites</text>\n",
       "</g>\n",
       "<!-- a0 -->\n",
       "<g id=\"node1\" class=\"node\">\n",
       "<title>a0</title>\n",
       "<ellipse fill=\"white\" stroke=\"black\" cx=\"27\" cy=\"-269.5\" rx=\"27\" ry=\"18\"/>\n",
       "<text text-anchor=\"middle\" x=\"27\" y=\"-265.8\" font-family=\"Times,serif\" font-size=\"14.00\">a0</text>\n",
       "</g>\n",
       "<!-- beta0 -->\n",
       "<g id=\"node6\" class=\"node\">\n",
       "<title>beta0</title>\n",
       "<ellipse fill=\"white\" stroke=\"black\" cx=\"290\" cy=\"-129\" rx=\"29.8\" ry=\"18\"/>\n",
       "<text text-anchor=\"middle\" x=\"290\" y=\"-125.3\" font-family=\"Times,serif\" font-size=\"14.00\">beta0</text>\n",
       "</g>\n",
       "<!-- a0&#45;&gt;beta0 -->\n",
       "<g id=\"edge1\" class=\"edge\">\n",
       "<title>a0&#45;&gt;beta0</title>\n",
       "<path fill=\"none\" stroke=\"black\" d=\"M28.36,-251.3C30.87,-231.77 37.95,-200.37 58,-183 117.35,-131.57 154.77,-165.89 231,-147 238.55,-145.13 246.6,-142.94 254.24,-140.77\"/>\n",
       "<polygon fill=\"black\" stroke=\"black\" points=\"255.34,-144.1 263.97,-137.96 253.4,-137.37 255.34,-144.1\"/>\n",
       "</g>\n",
       "<!-- beta1 -->\n",
       "<g id=\"node10\" class=\"node\">\n",
       "<title>beta1</title>\n",
       "<ellipse fill=\"white\" stroke=\"black\" cx=\"192\" cy=\"-129\" rx=\"29.8\" ry=\"18\"/>\n",
       "<text text-anchor=\"middle\" x=\"192\" y=\"-125.3\" font-family=\"Times,serif\" font-size=\"14.00\">beta1</text>\n",
       "</g>\n",
       "<!-- a0&#45;&gt;beta1 -->\n",
       "<g id=\"edge8\" class=\"edge\">\n",
       "<title>a0&#45;&gt;beta1</title>\n",
       "<path fill=\"none\" stroke=\"black\" d=\"M28.92,-251.49C31.94,-232.44 39.49,-201.78 58,-183 89.7,-150.84 111.18,-164.03 153,-147 155.06,-146.16 157.17,-145.29 159.29,-144.4\"/>\n",
       "<polygon fill=\"black\" stroke=\"black\" points=\"160.75,-147.58 168.57,-140.43 158,-141.14 160.75,-147.58\"/>\n",
       "</g>\n",
       "<!-- a1 -->\n",
       "<g id=\"node2\" class=\"node\">\n",
       "<title>a1</title>\n",
       "<ellipse fill=\"white\" stroke=\"black\" cx=\"435\" cy=\"-269.5\" rx=\"27\" ry=\"18\"/>\n",
       "<text text-anchor=\"middle\" x=\"435\" y=\"-265.8\" font-family=\"Times,serif\" font-size=\"14.00\">a1</text>\n",
       "</g>\n",
       "<!-- a1&#45;&gt;beta0 -->\n",
       "<g id=\"edge2\" class=\"edge\">\n",
       "<title>a1&#45;&gt;beta0</title>\n",
       "<path fill=\"none\" stroke=\"black\" d=\"M432.76,-251.39C429.48,-232.54 421.71,-202.32 404,-183 400.98,-179.7 355.14,-158.92 322.52,-144.38\"/>\n",
       "<polygon fill=\"black\" stroke=\"black\" points=\"323.86,-141.15 313.3,-140.28 321.01,-147.54 323.86,-141.15\"/>\n",
       "</g>\n",
       "<!-- a1&#45;&gt;beta1 -->\n",
       "<g id=\"edge9\" class=\"edge\">\n",
       "<title>a1&#45;&gt;beta1</title>\n",
       "<path fill=\"none\" stroke=\"black\" d=\"M433.55,-251.39C430.98,-231.94 423.82,-200.63 404,-183 351.81,-136.57 318.58,-164.68 251,-147 243.54,-145.05 235.59,-142.84 228.02,-140.68\"/>\n",
       "<polygon fill=\"black\" stroke=\"black\" points=\"228.93,-137.31 218.36,-137.9 226.99,-144.03 228.93,-137.31\"/>\n",
       "</g>\n",
       "<!-- betavar -->\n",
       "<g id=\"node3\" class=\"node\">\n",
       "<title>betavar</title>\n",
       "<ellipse fill=\"white\" stroke=\"black\" cx=\"516\" cy=\"-269.5\" rx=\"36.29\" ry=\"18\"/>\n",
       "<text text-anchor=\"middle\" x=\"516\" y=\"-265.8\" font-family=\"Times,serif\" font-size=\"14.00\">betavar</text>\n",
       "</g>\n",
       "<!-- betavar&#45;&gt;beta0 -->\n",
       "<g id=\"edge3\" class=\"edge\">\n",
       "<title>betavar&#45;&gt;beta0</title>\n",
       "<path fill=\"none\" stroke=\"black\" d=\"M511.55,-251.32C505.6,-231.81 493.14,-200.44 471,-183 419.86,-142.71 390.6,-168.08 329,-147 326.76,-146.23 324.47,-145.39 322.17,-144.51\"/>\n",
       "<polygon fill=\"black\" stroke=\"black\" points=\"323.43,-141.24 312.85,-140.7 320.79,-147.72 323.43,-141.24\"/>\n",
       "</g>\n",
       "<!-- betavar&#45;&gt;beta1 -->\n",
       "<g id=\"edge10\" class=\"edge\">\n",
       "<title>betavar&#45;&gt;beta1</title>\n",
       "<path fill=\"none\" stroke=\"black\" d=\"M511.91,-251.33C506.25,-231.52 494,-199.57 471,-183 390.61,-125.09 347.66,-168.75 251,-147 243.41,-145.29 235.35,-143.17 227.7,-141.02\"/>\n",
       "<polygon fill=\"black\" stroke=\"black\" points=\"228.55,-137.62 217.97,-138.2 226.6,-144.35 228.55,-137.62\"/>\n",
       "</g>\n",
       "<!-- p0 -->\n",
       "<g id=\"node4\" class=\"node\">\n",
       "<title>p0</title>\n",
       "<ellipse fill=\"white\" stroke=\"black\" cx=\"365\" cy=\"-129\" rx=\"27\" ry=\"18\"/>\n",
       "<text text-anchor=\"middle\" x=\"365\" y=\"-125.3\" font-family=\"Times,serif\" font-size=\"14.00\">p0</text>\n",
       "</g>\n",
       "<!-- obs0 -->\n",
       "<g id=\"node7\" class=\"node\">\n",
       "<title>obs0</title>\n",
       "<ellipse fill=\"grey\" stroke=\"black\" cx=\"290\" cy=\"-57\" rx=\"27.1\" ry=\"18\"/>\n",
       "<text text-anchor=\"middle\" x=\"290\" y=\"-53.3\" font-family=\"Times,serif\" font-size=\"14.00\">obs0</text>\n",
       "</g>\n",
       "<!-- p0&#45;&gt;obs0 -->\n",
       "<g id=\"edge5\" class=\"edge\">\n",
       "<title>p0&#45;&gt;obs0</title>\n",
       "<path fill=\"none\" stroke=\"black\" d=\"M349.82,-113.83C339.15,-103.87 324.68,-90.37 312.65,-79.14\"/>\n",
       "<polygon fill=\"black\" stroke=\"black\" points=\"314.85,-76.41 305.15,-72.14 310.08,-81.53 314.85,-76.41\"/>\n",
       "</g>\n",
       "<!-- alpha0 -->\n",
       "<g id=\"node5\" class=\"node\">\n",
       "<title>alpha0</title>\n",
       "<ellipse fill=\"white\" stroke=\"black\" cx=\"265\" cy=\"-269.5\" rx=\"34.39\" ry=\"18\"/>\n",
       "<text text-anchor=\"middle\" x=\"265\" y=\"-265.8\" font-family=\"Times,serif\" font-size=\"14.00\">alpha0</text>\n",
       "</g>\n",
       "<!-- alpha0&#45;&gt;beta0 -->\n",
       "<g id=\"edge4\" class=\"edge\">\n",
       "<title>alpha0&#45;&gt;beta0</title>\n",
       "<path fill=\"none\" stroke=\"black\" d=\"M268.07,-251.52C272.32,-227.95 280.06,-185.06 285.12,-157.06\"/>\n",
       "<polygon fill=\"black\" stroke=\"black\" points=\"288.58,-157.58 286.91,-147.12 281.69,-156.34 288.58,-157.58\"/>\n",
       "</g>\n",
       "<!-- alpha0&#45;&gt;obs0 -->\n",
       "<g id=\"edge6\" class=\"edge\">\n",
       "<title>alpha0&#45;&gt;obs0</title>\n",
       "<path fill=\"none\" stroke=\"black\" d=\"M259.15,-251.44C250,-221.99 234.9,-160.03 251,-111 254.71,-99.7 261.85,-88.82 269.02,-79.89\"/>\n",
       "<polygon fill=\"black\" stroke=\"black\" points=\"271.69,-82.17 275.52,-72.29 266.36,-77.62 271.69,-82.17\"/>\n",
       "</g>\n",
       "<!-- beta0&#45;&gt;obs0 -->\n",
       "<g id=\"edge7\" class=\"edge\">\n",
       "<title>beta0&#45;&gt;obs0</title>\n",
       "<path fill=\"none\" stroke=\"black\" d=\"M290,-110.7C290,-102.98 290,-93.71 290,-85.11\"/>\n",
       "<polygon fill=\"black\" stroke=\"black\" points=\"293.5,-85.1 290,-75.1 286.5,-85.1 293.5,-85.1\"/>\n",
       "</g>\n",
       "<!-- p1 -->\n",
       "<g id=\"node8\" class=\"node\">\n",
       "<title>p1</title>\n",
       "<ellipse fill=\"white\" stroke=\"black\" cx=\"117\" cy=\"-129\" rx=\"27\" ry=\"18\"/>\n",
       "<text text-anchor=\"middle\" x=\"117\" y=\"-125.3\" font-family=\"Times,serif\" font-size=\"14.00\">p1</text>\n",
       "</g>\n",
       "<!-- obs1 -->\n",
       "<g id=\"node11\" class=\"node\">\n",
       "<title>obs1</title>\n",
       "<ellipse fill=\"grey\" stroke=\"black\" cx=\"117\" cy=\"-57\" rx=\"27.1\" ry=\"18\"/>\n",
       "<text text-anchor=\"middle\" x=\"117\" y=\"-53.3\" font-family=\"Times,serif\" font-size=\"14.00\">obs1</text>\n",
       "</g>\n",
       "<!-- p1&#45;&gt;obs1 -->\n",
       "<g id=\"edge12\" class=\"edge\">\n",
       "<title>p1&#45;&gt;obs1</title>\n",
       "<path fill=\"none\" stroke=\"black\" d=\"M117,-110.7C117,-102.98 117,-93.71 117,-85.11\"/>\n",
       "<polygon fill=\"black\" stroke=\"black\" points=\"120.5,-85.1 117,-75.1 113.5,-85.1 120.5,-85.1\"/>\n",
       "</g>\n",
       "<!-- alpha1 -->\n",
       "<g id=\"node9\" class=\"node\">\n",
       "<title>alpha1</title>\n",
       "<ellipse fill=\"white\" stroke=\"black\" cx=\"154\" cy=\"-269.5\" rx=\"34.39\" ry=\"18\"/>\n",
       "<text text-anchor=\"middle\" x=\"154\" y=\"-265.8\" font-family=\"Times,serif\" font-size=\"14.00\">alpha1</text>\n",
       "</g>\n",
       "<!-- alpha1&#45;&gt;beta1 -->\n",
       "<g id=\"edge11\" class=\"edge\">\n",
       "<title>alpha1&#45;&gt;beta1</title>\n",
       "<path fill=\"none\" stroke=\"black\" d=\"M158.66,-251.52C165.13,-227.95 176.89,-185.06 184.58,-157.06\"/>\n",
       "<polygon fill=\"black\" stroke=\"black\" points=\"188.03,-157.69 187.3,-147.12 181.28,-155.84 188.03,-157.69\"/>\n",
       "</g>\n",
       "<!-- alpha1&#45;&gt;obs1 -->\n",
       "<g id=\"edge13\" class=\"edge\">\n",
       "<title>alpha1&#45;&gt;obs1</title>\n",
       "<path fill=\"none\" stroke=\"black\" d=\"M140.46,-252.55C122.74,-230.51 92.57,-188.74 81,-147 76.72,-131.58 76.3,-126.29 81,-111 84.29,-100.31 90.54,-89.85 96.93,-81.08\"/>\n",
       "<polygon fill=\"black\" stroke=\"black\" points=\"99.88,-82.98 103.25,-72.93 94.35,-78.69 99.88,-82.98\"/>\n",
       "</g>\n",
       "<!-- beta1&#45;&gt;obs1 -->\n",
       "<g id=\"edge14\" class=\"edge\">\n",
       "<title>beta1&#45;&gt;obs1</title>\n",
       "<path fill=\"none\" stroke=\"black\" d=\"M176.46,-113.5C165.83,-103.58 151.57,-90.26 139.67,-79.16\"/>\n",
       "<polygon fill=\"black\" stroke=\"black\" points=\"141.96,-76.51 132.26,-72.25 137.19,-81.63 141.96,-76.51\"/>\n",
       "</g>\n",
       "<!-- distribution_description_node -->\n",
       "<g id=\"node12\" class=\"node\">\n",
       "<title>distribution_description_node</title>\n",
       "<text text-anchor=\"start\" x=\"578.5\" y=\"-340.8\" font-family=\"Times,serif\" font-size=\"14.00\">a0 ~ Uniform</text>\n",
       "<text text-anchor=\"start\" x=\"578.5\" y=\"-325.8\" font-family=\"Times,serif\" font-size=\"14.00\">a1 ~ Uniform</text>\n",
       "<text text-anchor=\"start\" x=\"578.5\" y=\"-310.8\" font-family=\"Times,serif\" font-size=\"14.00\">betavar ~ InverseGamma</text>\n",
       "<text text-anchor=\"start\" x=\"578.5\" y=\"-295.8\" font-family=\"Times,serif\" font-size=\"14.00\">p0 ~ Uniform</text>\n",
       "<text text-anchor=\"start\" x=\"578.5\" y=\"-280.8\" font-family=\"Times,serif\" font-size=\"14.00\">alpha0 ~ Gamma</text>\n",
       "<text text-anchor=\"start\" x=\"578.5\" y=\"-265.8\" font-family=\"Times,serif\" font-size=\"14.00\">beta0 ~ LogNormal</text>\n",
       "<text text-anchor=\"start\" x=\"578.5\" y=\"-250.8\" font-family=\"Times,serif\" font-size=\"14.00\">obs0 ~ BernoulliGamma</text>\n",
       "<text text-anchor=\"start\" x=\"578.5\" y=\"-235.8\" font-family=\"Times,serif\" font-size=\"14.00\">p1 ~ Uniform</text>\n",
       "<text text-anchor=\"start\" x=\"578.5\" y=\"-220.8\" font-family=\"Times,serif\" font-size=\"14.00\">alpha1 ~ Gamma</text>\n",
       "<text text-anchor=\"start\" x=\"578.5\" y=\"-205.8\" font-family=\"Times,serif\" font-size=\"14.00\">beta1 ~ LogNormal</text>\n",
       "<text text-anchor=\"start\" x=\"578.5\" y=\"-190.8\" font-family=\"Times,serif\" font-size=\"14.00\">obs1 ~ BernoulliGamma</text>\n",
       "</g>\n",
       "</g>\n",
       "</svg>\n"
      ],
      "text/plain": [
       "<graphviz.graphs.Digraph at 0x7f4d2c042460>"
      ]
     },
     "execution_count": 9,
     "metadata": {},
     "output_type": "execute_result"
    }
   ],
   "source": [
    "# Model with for loop\n",
    "\n",
    "\n",
    "def parametric_dependency_model(data_seperate_month_list):\n",
    "\n",
    "    # Hyper-Params: (These the parameters used to parameterise beta as a function of alpha\n",
    "    a0 = numpyro.sample(f\"a0\", dist.Uniform(-10, 10.0))\n",
    "    a1 = numpyro.sample(f\"a1\", dist.Uniform(-10, 10.0))\n",
    "    betavar = numpyro.sample(f\"betavar\", dist.InverseGamma(0.001, 0.001))\n",
    "\n",
    "    months = len(data_seperate_month_list)\n",
    "    sites = data_seperate_month_list[0].shape[1]\n",
    "\n",
    "    for k in np.arange(0, months, 1):\n",
    "        with numpyro.plate(\"Sites\", sites) as j:\n",
    "            # Plate essentially vectorises all the below, so for example where sites = 5, the shape of p,alpha and scale defined below will be vectors of length 5\n",
    "            data = data_seperate_month_list[k][:, j]\n",
    "\n",
    "            p = numpyro.sample(f\"p{k}\", dist.Uniform(0, 1.0))\n",
    "            alpha = numpyro.sample(f\"alpha{k}\", dist.Gamma(0.001, 0.001))\n",
    "            scale = jnp.reciprocal(\n",
    "                numpyro.sample(\n",
    "                    f\"beta{k}\",\n",
    "                    dist.LogNormal(\n",
    "                        a0 + a1 * alpha,\n",
    "                        betavar,\n",
    "                    ),\n",
    "                )\n",
    "            )\n",
    "\n",
    "            numpyro.sample(\n",
    "                f\"obs{k}\",\n",
    "                BernoulliGamma([p, alpha, scale]),\n",
    "                obs=data,\n",
    "            )\n",
    "\n",
    "\n",
    "numpyro.render_model(\n",
    "    parametric_dependency_model, model_args=(jdata_list,), render_distributions=True\n",
    ")"
   ]
  },
  {
   "cell_type": "code",
   "execution_count": 10,
   "id": "23a5644b-8231-4f87-9626-e05fd34702db",
   "metadata": {},
   "outputs": [
    {
     "name": "stdout",
     "output_type": "stream",
     "text": [
      "Trace Shapes:         \n",
      " Param Sites:         \n",
      "Sample Sites:         \n",
      "      a0 dist        |\n",
      "        value        |\n",
      "      a1 dist        |\n",
      "        value        |\n",
      " betavar dist        |\n",
      "        value        |\n",
      "  Sites plate      5 |\n",
      "      p0 dist      5 |\n",
      "        value      5 |\n",
      "  alpha0 dist      5 |\n",
      "        value      5 |\n",
      "   beta0 dist      5 |\n",
      "        value      5 |\n",
      "    obs0 dist      5 |\n",
      "        value 1147 5 |\n",
      "      p1 dist      5 |\n",
      "        value      5 |\n",
      "  alpha1 dist      5 |\n",
      "        value      5 |\n",
      "   beta1 dist      5 |\n",
      "        value      5 |\n",
      "    obs1 dist      5 |\n",
      "        value 1045 5 |\n"
     ]
    }
   ],
   "source": [
    "with numpyro.handlers.seed(rng_seed=1):\n",
    "    trace = numpyro.handlers.trace(parametric_dependency_model).get_trace(jdata_list)\n",
    "print(numpyro.util.format_shapes(trace))"
   ]
  },
  {
   "cell_type": "code",
   "execution_count": 11,
   "id": "2356c6de-5174-4e7f-9577-be7dedce021e",
   "metadata": {},
   "outputs": [
    {
     "name": "stderr",
     "output_type": "stream",
     "text": [
      "/tmp/ipykernel_27477/4050371456.py:17: UserWarning: Missing a plate statement for batch dimension -2 at site 'obs0'. You can use `numpyro.util.format_shapes` utility to check shapes at all sites of your model.\n",
      "  mcmc.run(rng_key_, jdata_list)\n",
      "/tmp/ipykernel_27477/4050371456.py:17: UserWarning: Missing a plate statement for batch dimension -2 at site 'obs1'. You can use `numpyro.util.format_shapes` utility to check shapes at all sites of your model.\n",
      "  mcmc.run(rng_key_, jdata_list)\n",
      "sample: 100%|██████████| 3000/3000 [00:56<00:00, 53.41it/s, 63 steps of size 5.31e-02. acc. prob=0.93] \n"
     ]
    },
    {
     "name": "stdout",
     "output_type": "stream",
     "text": [
      "\n",
      "                mean       std    median      5.0%     95.0%     n_eff     r_hat\n",
      "        a0     -4.03      1.12     -4.01     -5.66     -2.17    664.37      1.00\n",
      "        a1      3.91      1.56      3.88      1.59      6.38    661.42      1.00\n",
      " alpha0[0]      0.64      0.03      0.64      0.60      0.68   1721.58      1.00\n",
      " alpha0[1]      0.65      0.03      0.65      0.61      0.70   1402.69      1.00\n",
      " alpha0[2]      0.79      0.04      0.79      0.73      0.85   1863.61      1.00\n",
      " alpha0[3]      0.82      0.04      0.82      0.76      0.88   1473.98      1.00\n",
      " alpha0[4]      0.68      0.03      0.68      0.63      0.73   1518.87      1.00\n",
      " alpha1[0]      0.67      0.03      0.67      0.63      0.72   1480.23      1.00\n",
      " alpha1[1]      0.65      0.03      0.65      0.60      0.70   1768.08      1.00\n",
      " alpha1[2]      0.79      0.04      0.79      0.73      0.85   1518.54      1.00\n",
      " alpha1[3]      0.86      0.04      0.86      0.79      0.92   1309.61      1.00\n",
      " alpha1[4]      0.66      0.03      0.66      0.61      0.71   1559.42      1.00\n",
      "  beta0[0]      0.21      0.01      0.21      0.19      0.23   1939.82      1.00\n",
      "  beta0[1]      0.24      0.02      0.24      0.21      0.27   1499.19      1.00\n",
      "  beta0[2]      0.35      0.02      0.35      0.31      0.38   1666.42      1.00\n",
      "  beta0[3]      0.66      0.04      0.66      0.59      0.73   1522.99      1.00\n",
      "  beta0[4]      0.34      0.02      0.34      0.30      0.38   1676.77      1.00\n",
      "  beta1[0]      0.18      0.01      0.18      0.16      0.20   1498.69      1.00\n",
      "  beta1[1]      0.20      0.01      0.20      0.18      0.23   1775.50      1.00\n",
      "  beta1[2]      0.25      0.02      0.25      0.23      0.28   1665.63      1.00\n",
      "  beta1[3]      0.58      0.04      0.57      0.53      0.64   1298.57      1.00\n",
      "  beta1[4]      0.28      0.02      0.28      0.25      0.31   1821.67      1.00\n",
      "   betavar      0.32      0.11      0.31      0.17      0.47    990.22      1.00\n",
      "     p0[0]      0.68      0.01      0.68      0.66      0.70   2746.67      1.00\n",
      "     p0[1]      0.60      0.01      0.60      0.57      0.62   2300.05      1.00\n",
      "     p0[2]      0.61      0.01      0.61      0.59      0.63   2278.72      1.00\n",
      "     p0[3]      0.61      0.01      0.61      0.59      0.64   2633.49      1.00\n",
      "     p0[4]      0.55      0.02      0.55      0.52      0.57   2618.20      1.00\n",
      "     p1[0]      0.81      0.01      0.81      0.79      0.83   1915.70      1.00\n",
      "     p1[1]      0.61      0.01      0.61      0.59      0.64   2421.03      1.00\n",
      "     p1[2]      0.71      0.01      0.71      0.69      0.73   2418.76      1.00\n",
      "     p1[3]      0.65      0.01      0.65      0.62      0.67   1999.00      1.00\n",
      "     p1[4]      0.57      0.01      0.57      0.55      0.60   2672.38      1.00\n",
      "\n",
      "Number of divergences: 5\n",
      "Time Taken: 69.80113789439201\n"
     ]
    }
   ],
   "source": [
    "# Numpyro syntax for running MCMC\n",
    "starttime = timeit.default_timer()\n",
    "\n",
    "# Start from this source of randomness. We will split keys for subsequent operations.\n",
    "rng_key = random.PRNGKey(0)\n",
    "rng_key, rng_key_ = random.split(rng_key)\n",
    "\n",
    "# Run NUTS.\n",
    "kernel = NUTS(parametric_dependency_model)\n",
    "# kernel = HMC(model)\n",
    "# kernel = BarkerMH(model)\n",
    "num_samples = 2000\n",
    "num_warmup = 1000\n",
    "mcmc = MCMC(\n",
    "    kernel, num_warmup=num_warmup, num_samples=num_samples\n",
    ")  # ,chain_method='vectorized',num_chains=2)\n",
    "mcmc.run(rng_key_, jdata_list)\n",
    "mcmc.print_summary()\n",
    "samples_1 = mcmc.get_samples()\n",
    "\n",
    "print(\"Time Taken:\", timeit.default_timer() - starttime)"
   ]
  },
  {
   "cell_type": "code",
   "execution_count": 12,
   "id": "108e443c-3f4d-4e08-893d-a2cea0fbbcdd",
   "metadata": {
    "tags": []
   },
   "outputs": [],
   "source": [
    "jdata = jnp.array([jan_data[:1000, :], feb_data[:1000, :]])"
   ]
  },
  {
   "cell_type": "code",
   "execution_count": 13,
   "id": "e0b8f2ad-0171-45f3-938f-927ef62c9b0d",
   "metadata": {
    "tags": []
   },
   "outputs": [
    {
     "data": {
      "text/plain": [
       "(2, 1000, 5)"
      ]
     },
     "execution_count": 13,
     "metadata": {},
     "output_type": "execute_result"
    }
   ],
   "source": [
    "jdata.shape"
   ]
  },
  {
   "cell_type": "code",
   "execution_count": 14,
   "id": "a4cc94e4-9a90-4632-9f22-3ffb0adc1c62",
   "metadata": {},
   "outputs": [],
   "source": [
    "jdata = np.moveaxis(jdata, 1, 0)"
   ]
  },
  {
   "cell_type": "code",
   "execution_count": 15,
   "id": "de8a984a-a203-48de-b294-e9c0d7a6a277",
   "metadata": {
    "tags": []
   },
   "outputs": [
    {
     "data": {
      "text/plain": [
       "(1000, 2, 5)"
      ]
     },
     "execution_count": 15,
     "metadata": {},
     "output_type": "execute_result"
    }
   ],
   "source": [
    "jdata.shape"
   ]
  },
  {
   "cell_type": "code",
   "execution_count": 16,
   "id": "4b79442b-9346-4917-9e0a-8f8a12fb21c9",
   "metadata": {},
   "outputs": [],
   "source": [
    "def parametric_dependency_model(jdata):\n",
    "\n",
    "    # Hyper-Params: (These the parameters used to parameterise beta as a function of alpha\n",
    "    a0 = numpyro.sample(f\"a0\", dist.Uniform(-10, 10.0))\n",
    "    a1 = numpyro.sample(f\"a1\", dist.Uniform(-10, 10.0))\n",
    "    betavar = numpyro.sample(f\"betavar\", dist.InverseGamma(0.001, 0.001))\n",
    "\n",
    "    months = jdata.shape[1]\n",
    "    sites = jdata.shape[2]\n",
    "\n",
    "    with numpyro.plate(\"Months\", months, dim=-2) as k:\n",
    "        with numpyro.plate(\"Sites\", sites, dim=-1) as j:\n",
    "            data = jdata\n",
    "\n",
    "            p = numpyro.sample(f\"p\", dist.Uniform(0, 1.0))\n",
    "            alpha = numpyro.sample(f\"alpha\", dist.Gamma(0.001, 0.001))\n",
    "            scale = jnp.reciprocal(\n",
    "                numpyro.sample(\n",
    "                    f\"beta\",\n",
    "                    dist.LogNormal(\n",
    "                        a0 + a1 * alpha,\n",
    "                        betavar,\n",
    "                    ),\n",
    "                )\n",
    "            )\n",
    "\n",
    "            numpyro.sample(\n",
    "                f\"obs\",\n",
    "                BernoulliGamma([p, alpha, scale]),\n",
    "                obs=jdata,\n",
    "            )"
   ]
  },
  {
   "cell_type": "code",
   "execution_count": 17,
   "id": "8c3e24a8-bd27-4afe-ace8-033e3f183e19",
   "metadata": {
    "tags": []
   },
   "outputs": [
    {
     "data": {
      "image/svg+xml": [
       "<?xml version=\"1.0\" encoding=\"UTF-8\" standalone=\"no\"?>\n",
       "<!DOCTYPE svg PUBLIC \"-//W3C//DTD SVG 1.1//EN\"\n",
       " \"http://www.w3.org/Graphics/SVG/1.1/DTD/svg11.dtd\">\n",
       "<!-- Generated by graphviz version 2.43.0 (0)\n",
       " -->\n",
       "<!-- Title: %3 Pages: 1 -->\n",
       "<svg width=\"574pt\" height=\"335pt\"\n",
       " viewBox=\"0.00 0.00 573.50 335.00\" xmlns=\"http://www.w3.org/2000/svg\" xmlns:xlink=\"http://www.w3.org/1999/xlink\">\n",
       "<g id=\"graph0\" class=\"graph\" transform=\"scale(1 1) rotate(0) translate(4 331)\">\n",
       "<title>%3</title>\n",
       "<polygon fill=\"white\" stroke=\"transparent\" points=\"-4,4 -4,-331 569.5,-331 569.5,4 -4,4\"/>\n",
       "<g id=\"clust1\" class=\"cluster\">\n",
       "<title>cluster_Months</title>\n",
       "<polygon fill=\"none\" stroke=\"black\" points=\"62,-8 62,-304.5 240,-304.5 240,-8 62,-8\"/>\n",
       "<text text-anchor=\"middle\" x=\"210.5\" y=\"-15.8\" font-family=\"Times,serif\" font-size=\"14.00\">Months</text>\n",
       "</g>\n",
       "<g id=\"clust2\" class=\"cluster\">\n",
       "<title>cluster_Sites</title>\n",
       "<polygon fill=\"none\" stroke=\"black\" points=\"70,-39 70,-296.5 232,-296.5 232,-39 70,-39\"/>\n",
       "<text text-anchor=\"middle\" x=\"210.5\" y=\"-46.8\" font-family=\"Times,serif\" font-size=\"14.00\">Sites</text>\n",
       "</g>\n",
       "<!-- a0 -->\n",
       "<g id=\"node1\" class=\"node\">\n",
       "<title>a0</title>\n",
       "<ellipse fill=\"white\" stroke=\"black\" cx=\"27\" cy=\"-270.5\" rx=\"27\" ry=\"18\"/>\n",
       "<text text-anchor=\"middle\" x=\"27\" y=\"-266.8\" font-family=\"Times,serif\" font-size=\"14.00\">a0</text>\n",
       "</g>\n",
       "<!-- beta -->\n",
       "<g id=\"node6\" class=\"node\">\n",
       "<title>beta</title>\n",
       "<ellipse fill=\"white\" stroke=\"black\" cx=\"125\" cy=\"-160\" rx=\"27\" ry=\"18\"/>\n",
       "<text text-anchor=\"middle\" x=\"125\" y=\"-156.3\" font-family=\"Times,serif\" font-size=\"14.00\">beta</text>\n",
       "</g>\n",
       "<!-- a0&#45;&gt;beta -->\n",
       "<g id=\"edge1\" class=\"edge\">\n",
       "<title>a0&#45;&gt;beta</title>\n",
       "<path fill=\"none\" stroke=\"black\" d=\"M37.03,-253.24C44.42,-241.77 55.06,-226.33 66,-214 76.52,-202.15 89.5,-190.24 100.61,-180.73\"/>\n",
       "<polygon fill=\"black\" stroke=\"black\" points=\"102.9,-183.37 108.3,-174.25 98.39,-178.01 102.9,-183.37\"/>\n",
       "</g>\n",
       "<!-- a1 -->\n",
       "<g id=\"node2\" class=\"node\">\n",
       "<title>a1</title>\n",
       "<ellipse fill=\"white\" stroke=\"black\" cx=\"275\" cy=\"-270.5\" rx=\"27\" ry=\"18\"/>\n",
       "<text text-anchor=\"middle\" x=\"275\" y=\"-266.8\" font-family=\"Times,serif\" font-size=\"14.00\">a1</text>\n",
       "</g>\n",
       "<!-- a1&#45;&gt;beta -->\n",
       "<g id=\"edge2\" class=\"edge\">\n",
       "<title>a1&#45;&gt;beta</title>\n",
       "<path fill=\"none\" stroke=\"black\" d=\"M266.57,-253.21C259.67,-241.14 248.95,-224.95 236,-214 235.15,-213.28 188.16,-190.94 155.6,-175.5\"/>\n",
       "<polygon fill=\"black\" stroke=\"black\" points=\"156.98,-172.28 146.44,-171.15 153.98,-178.6 156.98,-172.28\"/>\n",
       "</g>\n",
       "<!-- betavar -->\n",
       "<g id=\"node3\" class=\"node\">\n",
       "<title>betavar</title>\n",
       "<ellipse fill=\"white\" stroke=\"black\" cx=\"356\" cy=\"-270.5\" rx=\"36.29\" ry=\"18\"/>\n",
       "<text text-anchor=\"middle\" x=\"356\" y=\"-266.8\" font-family=\"Times,serif\" font-size=\"14.00\">betavar</text>\n",
       "</g>\n",
       "<!-- betavar&#45;&gt;beta -->\n",
       "<g id=\"edge3\" class=\"edge\">\n",
       "<title>betavar&#45;&gt;beta</title>\n",
       "<path fill=\"none\" stroke=\"black\" d=\"M346.7,-252.91C338.8,-240.35 326.32,-223.66 311,-214 253,-177.44 225.67,-200.76 161,-178 159.09,-177.33 157.15,-176.59 155.21,-175.81\"/>\n",
       "<polygon fill=\"black\" stroke=\"black\" points=\"156.2,-172.42 145.63,-171.63 153.4,-178.84 156.2,-172.42\"/>\n",
       "</g>\n",
       "<!-- p -->\n",
       "<g id=\"node4\" class=\"node\">\n",
       "<title>p</title>\n",
       "<ellipse fill=\"white\" stroke=\"black\" cx=\"197\" cy=\"-160\" rx=\"27\" ry=\"18\"/>\n",
       "<text text-anchor=\"middle\" x=\"197\" y=\"-156.3\" font-family=\"Times,serif\" font-size=\"14.00\">p</text>\n",
       "</g>\n",
       "<!-- obs -->\n",
       "<g id=\"node7\" class=\"node\">\n",
       "<title>obs</title>\n",
       "<ellipse fill=\"grey\" stroke=\"black\" cx=\"125\" cy=\"-88\" rx=\"27\" ry=\"18\"/>\n",
       "<text text-anchor=\"middle\" x=\"125\" y=\"-84.3\" font-family=\"Times,serif\" font-size=\"14.00\">obs</text>\n",
       "</g>\n",
       "<!-- p&#45;&gt;obs -->\n",
       "<g id=\"edge5\" class=\"edge\">\n",
       "<title>p&#45;&gt;obs</title>\n",
       "<path fill=\"none\" stroke=\"black\" d=\"M182.43,-144.83C172.25,-134.94 158.48,-121.55 146.97,-110.36\"/>\n",
       "<polygon fill=\"black\" stroke=\"black\" points=\"149.41,-107.85 139.8,-103.38 144.53,-112.87 149.41,-107.85\"/>\n",
       "</g>\n",
       "<!-- alpha -->\n",
       "<g id=\"node5\" class=\"node\">\n",
       "<title>alpha</title>\n",
       "<ellipse fill=\"white\" stroke=\"black\" cx=\"116\" cy=\"-270.5\" rx=\"29.8\" ry=\"18\"/>\n",
       "<text text-anchor=\"middle\" x=\"116\" y=\"-266.8\" font-family=\"Times,serif\" font-size=\"14.00\">alpha</text>\n",
       "</g>\n",
       "<!-- alpha&#45;&gt;beta -->\n",
       "<g id=\"edge4\" class=\"edge\">\n",
       "<title>alpha&#45;&gt;beta</title>\n",
       "<path fill=\"none\" stroke=\"black\" d=\"M117.45,-252.07C118.88,-234.8 121.09,-208.12 122.75,-188.09\"/>\n",
       "<polygon fill=\"black\" stroke=\"black\" points=\"126.25,-188.29 123.59,-178.03 119.27,-187.71 126.25,-188.29\"/>\n",
       "</g>\n",
       "<!-- alpha&#45;&gt;obs -->\n",
       "<g id=\"edge6\" class=\"edge\">\n",
       "<title>alpha&#45;&gt;obs</title>\n",
       "<path fill=\"none\" stroke=\"black\" d=\"M107.31,-253.16C95.44,-228.67 76.96,-181.14 89,-142 92.29,-131.31 98.54,-120.85 104.93,-112.08\"/>\n",
       "<polygon fill=\"black\" stroke=\"black\" points=\"107.88,-113.98 111.25,-103.93 102.35,-109.69 107.88,-113.98\"/>\n",
       "</g>\n",
       "<!-- beta&#45;&gt;obs -->\n",
       "<g id=\"edge7\" class=\"edge\">\n",
       "<title>beta&#45;&gt;obs</title>\n",
       "<path fill=\"none\" stroke=\"black\" d=\"M125,-141.7C125,-133.98 125,-124.71 125,-116.11\"/>\n",
       "<polygon fill=\"black\" stroke=\"black\" points=\"128.5,-116.1 125,-106.1 121.5,-116.1 128.5,-116.1\"/>\n",
       "</g>\n",
       "<!-- distribution_description_node -->\n",
       "<g id=\"node8\" class=\"node\">\n",
       "<title>distribution_description_node</title>\n",
       "<text text-anchor=\"start\" x=\"418.5\" y=\"-311.8\" font-family=\"Times,serif\" font-size=\"14.00\">a0 ~ Uniform</text>\n",
       "<text text-anchor=\"start\" x=\"418.5\" y=\"-296.8\" font-family=\"Times,serif\" font-size=\"14.00\">a1 ~ Uniform</text>\n",
       "<text text-anchor=\"start\" x=\"418.5\" y=\"-281.8\" font-family=\"Times,serif\" font-size=\"14.00\">betavar ~ InverseGamma</text>\n",
       "<text text-anchor=\"start\" x=\"418.5\" y=\"-266.8\" font-family=\"Times,serif\" font-size=\"14.00\">p ~ Uniform</text>\n",
       "<text text-anchor=\"start\" x=\"418.5\" y=\"-251.8\" font-family=\"Times,serif\" font-size=\"14.00\">alpha ~ Gamma</text>\n",
       "<text text-anchor=\"start\" x=\"418.5\" y=\"-236.8\" font-family=\"Times,serif\" font-size=\"14.00\">beta ~ LogNormal</text>\n",
       "<text text-anchor=\"start\" x=\"418.5\" y=\"-221.8\" font-family=\"Times,serif\" font-size=\"14.00\">obs ~ BernoulliGamma</text>\n",
       "</g>\n",
       "</g>\n",
       "</svg>\n"
      ],
      "text/plain": [
       "<graphviz.graphs.Digraph at 0x7f4cef78f370>"
      ]
     },
     "execution_count": 17,
     "metadata": {},
     "output_type": "execute_result"
    }
   ],
   "source": [
    "numpyro.render_model(\n",
    "    parametric_dependency_model, model_args=(jdata,), render_distributions=True\n",
    ")"
   ]
  },
  {
   "cell_type": "code",
   "execution_count": 18,
   "id": "bcb970d3-7f2c-40df-bdfc-7d24b2d68766",
   "metadata": {},
   "outputs": [
    {
     "name": "stdout",
     "output_type": "stream",
     "text": [
      "Trace Shapes:           \n",
      " Param Sites:           \n",
      "Sample Sites:           \n",
      "      a0 dist          |\n",
      "        value          |\n",
      "      a1 dist          |\n",
      "        value          |\n",
      " betavar dist          |\n",
      "        value          |\n",
      " Months plate        2 |\n",
      "  Sites plate        5 |\n",
      "       p dist      2 5 |\n",
      "        value      2 5 |\n",
      "   alpha dist      2 5 |\n",
      "        value      2 5 |\n",
      "    beta dist      2 5 |\n",
      "        value      2 5 |\n",
      "     obs dist      2 5 |\n",
      "        value 1000 2 5 |\n"
     ]
    }
   ],
   "source": [
    "with numpyro.handlers.seed(rng_seed=1):\n",
    "    trace = numpyro.handlers.trace(parametric_dependency_model).get_trace(jdata)\n",
    "print(numpyro.util.format_shapes(trace))"
   ]
  },
  {
   "cell_type": "code",
   "execution_count": 19,
   "id": "978e961b-7a5d-4c17-9046-422b0212b445",
   "metadata": {},
   "outputs": [
    {
     "name": "stderr",
     "output_type": "stream",
     "text": [
      "/tmp/ipykernel_27477/1057684537.py:21: UserWarning: Missing a plate statement for batch dimension -3 at site 'obs'. You can use `numpyro.util.format_shapes` utility to check shapes at all sites of your model.\n",
      "  mcmc.run(rng_key_, jdata)\n",
      "sample: 100%|██████████| 3000/3000 [00:34<00:00, 85.91it/s, 63 steps of size 6.51e-02. acc. prob=0.75]  \n"
     ]
    },
    {
     "name": "stdout",
     "output_type": "stream",
     "text": [
      "\n",
      "                mean       std    median      5.0%     95.0%     n_eff     r_hat\n",
      "        a0     -4.04      1.05     -3.94     -5.58     -2.29    364.01      1.01\n",
      "        a1      3.92      1.45      3.80      1.61      6.17    369.76      1.01\n",
      "alpha[0,0]      0.65      0.03      0.65      0.60      0.69     38.40      1.04\n",
      "alpha[0,1]      0.63      0.03      0.63      0.58      0.68     36.50      1.04\n",
      "alpha[0,2]      0.78      0.04      0.78      0.72      0.84   1225.00      1.00\n",
      "alpha[0,3]      0.83      0.04      0.83      0.77      0.89     94.88      1.02\n",
      "alpha[0,4]      0.69      0.03      0.69      0.64      0.75    754.35      1.00\n",
      "alpha[1,0]      0.68      0.03      0.68      0.63      0.73     50.62      1.03\n",
      "alpha[1,1]      0.66      0.03      0.66      0.61      0.71     49.04      1.03\n",
      "alpha[1,2]      0.79      0.04      0.79      0.73      0.84    391.67      1.00\n",
      "alpha[1,3]      0.87      0.04      0.87      0.80      0.93     43.18      1.04\n",
      "alpha[1,4]      0.67      0.03      0.67      0.61      0.72   1389.15      1.00\n",
      " beta[0,0]      0.22      0.02      0.22      0.19      0.24     31.09      1.04\n",
      " beta[0,1]      0.23      0.02      0.23      0.20      0.25     52.18      1.03\n",
      " beta[0,2]      0.35      0.02      0.35      0.31      0.38   1418.41      1.00\n",
      " beta[0,3]      0.70      0.04      0.70      0.63      0.77   1215.49      1.00\n",
      " beta[0,4]      0.34      0.02      0.34      0.30      0.38    873.90      1.00\n",
      " beta[1,0]      0.18      0.01      0.18      0.16      0.20    507.83      1.01\n",
      " beta[1,1]      0.21      0.01      0.21      0.19      0.23     89.73      1.02\n",
      " beta[1,2]      0.25      0.01      0.25      0.22      0.27    708.00      1.00\n",
      " beta[1,3]      0.57      0.04      0.58      0.52      0.63    270.48      1.01\n",
      " beta[1,4]      0.28      0.02      0.28      0.25      0.31   1426.34      1.00\n",
      "   betavar      0.30      0.11      0.29      0.15      0.44     46.57      1.05\n",
      "    p[0,0]      0.68      0.02      0.68      0.66      0.71    145.30      1.00\n",
      "    p[0,1]      0.60      0.02      0.60      0.58      0.63    310.46      1.00\n",
      "    p[0,2]      0.62      0.02      0.62      0.60      0.65     54.24      1.02\n",
      "    p[0,3]      0.61      0.02      0.61      0.59      0.64    261.57      1.01\n",
      "    p[0,4]      0.56      0.02      0.55      0.53      0.58    680.06      1.00\n",
      "    p[1,0]      0.82      0.01      0.82      0.80      0.84     46.43      1.03\n",
      "    p[1,1]      0.61      0.01      0.61      0.59      0.64    207.10      1.01\n",
      "    p[1,2]      0.71      0.01      0.71      0.69      0.73   2665.69      1.00\n",
      "    p[1,3]      0.66      0.01      0.66      0.64      0.68     90.45      1.02\n",
      "    p[1,4]      0.57      0.02      0.57      0.55      0.60    293.13      1.00\n",
      "\n",
      "Number of divergences: 253\n",
      "Time Taken: 43.07453417778015\n"
     ]
    }
   ],
   "source": [
    "# Numpyro syntax for running MCMC\n",
    "starttime = timeit.default_timer()\n",
    "\n",
    "# Start from this source of randomness. We will split keys for subsequent operations.\n",
    "rng_key = random.PRNGKey(0)\n",
    "rng_key, rng_key_ = random.split(rng_key)\n",
    "\n",
    "# Run NUTS.\n",
    "kernel = NUTS(parametric_dependency_model)\n",
    "# kernel = HMC(model)\n",
    "# kernel = BarkerMH(model)\n",
    "num_samples = 2000\n",
    "num_warmup = 1000\n",
    "mcmc = MCMC(\n",
    "    kernel,\n",
    "    num_warmup=num_warmup,\n",
    "    num_samples=num_samples,\n",
    "    #    chain_method=\"vectorized\",\n",
    "    num_chains=1,\n",
    ")\n",
    "mcmc.run(rng_key_, jdata)\n",
    "mcmc.print_summary()\n",
    "samples_1 = mcmc.get_samples()\n",
    "\n",
    "print(\"Time Taken:\", timeit.default_timer() - starttime)"
   ]
  },
  {
   "cell_type": "code",
   "execution_count": 20,
   "id": "0afb2e0f-d69e-48bf-a3be-d66ba2c28615",
   "metadata": {},
   "outputs": [
    {
     "data": {
      "text/plain": [
       "<matplotlib.legend.Legend at 0x7f4cef345e20>"
      ]
     },
     "execution_count": 20,
     "metadata": {},
     "output_type": "execute_result"
    },
    {
     "data": {
      "image/png": "[encoded data removed]",
      "text/plain": [
       "<Figure size 720x720 with 1 Axes>"
      ]
     },
     "metadata": {
      "needs_background": "light"
     },
     "output_type": "display_data"
    }
   ],
   "source": [
    "# Plotting the PDFs estimated for 2 different sites for January and February (The credible interval containing 95% of expected variation is also plotted)\n",
    "\n",
    "for k in np.arange(0, 2, 1):\n",
    "    for j in np.arange(0, 2, 1):\n",
    "\n",
    "        ps = jnp.expand_dims(samples_1[f\"p\"], -1)[:, k, j]\n",
    "        alphas = jnp.expand_dims(samples_1[f\"alpha\"], -1)[:, k, j]\n",
    "        scales = jnp.reciprocal(jnp.expand_dims(samples_1[f\"beta\"], -1))[:, k, j]\n",
    "\n",
    "        bins = np.arange(0, 5, 0.1)\n",
    "        bin_centers = bins + bins[1] / 2\n",
    "\n",
    "        likelihood_values = ps * jgamma.pdf(bin_centers, a=alphas, loc=0, scale=scales)\n",
    "\n",
    "        zero_likelihood_values = 1 - ps\n",
    "\n",
    "        mean_l = jnp.mean(jnp.array(likelihood_values), axis=0)\n",
    "        hpdi_l = hpdi(jnp.array(likelihood_values), 0.95)\n",
    "        lower_l = hpdi_l[0]\n",
    "        upper_l = hpdi_l[1]\n",
    "\n",
    "        zero_mean_l = jnp.mean(jnp.array(zero_likelihood_values), axis=0)\n",
    "        zero_hpdi_l = hpdi(jnp.array(zero_likelihood_values), 0.95)\n",
    "        zero_lower_l = zero_hpdi_l[0]\n",
    "        zero_upper_l = zero_hpdi_l[1]\n",
    "        zero_lower_error = zero_mean_l - zero_lower_l\n",
    "        zero_upper_error = zero_upper_l - zero_mean_l\n",
    "        error = np.array([zero_lower_error[0], zero_upper_error[0]]).reshape(2, 1)\n",
    "\n",
    "        data = data_list[k][:, j]\n",
    "        bin_width = bins[1] - bins[0]\n",
    "        p_data = len(data[data != 0]) / len(data)\n",
    "        weight_value = p_data / bin_width / len(data[data != 0])\n",
    "        weights = np.full(len(data[data != 0]), weight_value)\n",
    "\n",
    "        color = next(plt.gca()._get_lines.prop_cycler)[\"color\"]\n",
    "\n",
    "        plt.hist(\n",
    "            data[data != 0],\n",
    "            bins=bins,\n",
    "            histtype=\"step\",\n",
    "            stacked=True,\n",
    "            fill=False,\n",
    "            weights=weights,\n",
    "            color=color,\n",
    "        )\n",
    "\n",
    "        plt.plot(bin_centers, mean_l, color=color)\n",
    "        plt.fill_between(bin_centers, y1=lower_l, y2=upper_l, alpha=0.4, color=color)\n",
    "\n",
    "        plt.plot(0, 1 - ps.mean(), marker=\"o\", color=color)\n",
    "        plt.errorbar(\n",
    "            0,\n",
    "            zero_mean_l,\n",
    "            yerr=error,\n",
    "            capsize=3,\n",
    "            color=color,\n",
    "            label=f\"month={k},site={j}\",\n",
    "        )\n",
    "\n",
    "plt.xlabel(\"Snowfall\")\n",
    "plt.ylabel(\"Likelihood\")\n",
    "plt.legend()"
   ]
  },
  {
   "cell_type": "code",
   "execution_count": 21,
   "id": "22788458-0e3a-4198-b23a-1bdcb7bc8632",
   "metadata": {},
   "outputs": [
    {
     "data": {
      "text/plain": [
       "<matplotlib.legend.Legend at 0x7f4cef164af0>"
      ]
     },
     "execution_count": 21,
     "metadata": {},
     "output_type": "execute_result"
    },
    {
     "data": {
      "image/png": "[encoded data removed]",
      "text/plain": [
       "<Figure size 720x720 with 1 Axes>"
      ]
     },
     "metadata": {
      "needs_background": "light"
     },
     "output_type": "display_data"
    }
   ],
   "source": [
    "# Examining the parametric relationship between Alpha and Beta\n",
    "\n",
    "alpha_mean_list = []\n",
    "a0 = jnp.expand_dims(samples_1[f\"a0\"], -1)\n",
    "a1 = jnp.expand_dims(samples_1[f\"a1\"], -1)\n",
    "betavar = jnp.expand_dims(samples_1[f\"betavar\"], -1)\n",
    "for k in np.arange(0, 2, 1):\n",
    "    color = next(plt.gca()._get_lines.prop_cycler)[\"color\"]\n",
    "    for j in np.arange(0, 5, 1):\n",
    "        alphas = jnp.expand_dims(samples_1[f\"alpha\"][:, k, j], -1)\n",
    "        alpha_mean_list.append(jnp.mean(alphas))\n",
    "        betas = jnp.expand_dims(samples_1[f\"beta\"][:, k, j], -1)\n",
    "        plt.plot(\n",
    "            jnp.mean(alphas),\n",
    "            jnp.mean(jnp.log(betas)),\n",
    "            marker=\"o\",\n",
    "            color=color,\n",
    "            label=f\"month: {k}\",\n",
    "        )\n",
    "\n",
    "x = [jnp.min(jnp.array(alpha_mean_list)), jnp.max(jnp.array(alpha_mean_list))]\n",
    "y = jnp.mean(a0) + jnp.mean(a1) * jnp.array(x)\n",
    "color = next(plt.gca()._get_lines.prop_cycler)[\"color\"]\n",
    "plt.plot(x, y, label=\"Relationship based on a0 and a1\", color=color)\n",
    "plt.fill_between(\n",
    "    x,\n",
    "    y1=y - jnp.mean(betavar),\n",
    "    y2=y + jnp.mean(betavar),\n",
    "    alpha=0.4,\n",
    "    color=color,\n",
    ")\n",
    "plt.xlabel(\"Alpha\")\n",
    "plt.ylabel(\"Log-Beta\")\n",
    "# Below is some code for plotting a non-repeating legend\n",
    "handles, labels = plt.gca().get_legend_handles_labels()\n",
    "by_label = dict(zip(labels, handles))\n",
    "plt.legend(by_label.values(), by_label.keys())"
   ]
  },
  {
   "cell_type": "code",
   "execution_count": null,
   "id": "1f556885-208d-4af4-8382-4009b6a0b7ac",
   "metadata": {},
   "outputs": [],
   "source": []
  }
 ],
 "metadata": {
  "kernelspec": {
   "display_name": "bc",
   "language": "python",
   "name": "bc-python"
  },
  "language_info": {
   "codemirror_mode": {
    "name": "ipython",
    "version": 3
   },
   "file_extension": ".py",
   "mimetype": "text/x-python",
   "name": "python",
   "nbconvert_exporter": "python",
   "pygments_lexer": "ipython3",
   "version": "3.9.7"
  }
 },
 "nbformat": 4,
 "nbformat_minor": 5
}
