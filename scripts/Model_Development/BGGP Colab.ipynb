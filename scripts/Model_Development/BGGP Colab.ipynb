{
 "cells": [
  {
   "cell_type": "code",
   "execution_count": null,
   "id": "f64841b3-a7e1-4126-9cb3-9ce533b3d124",
   "metadata": {},
   "outputs": [],
   "source": []
  },
  {
   "cell_type": "code",
   "execution_count": null,
   "id": "878a683b-ca98-459a-a5f4-7c7cb5a678af",
   "metadata": {},
   "outputs": [],
   "source": []
  },
  {
   "cell_type": "code",
   "execution_count": null,
   "id": "100e469c-4427-4748-b9eb-df378bece338",
   "metadata": {},
   "outputs": [],
   "source": [
    "# Google Colab\n",
    "!git clone https://github.com/Jez-Carter/Bias_Correction"
   ]
  },
  {
   "cell_type": "code",
   "execution_count": null,
   "id": "be7a11ce-432a-4a44-ba0d-5f76b49a1edc",
   "metadata": {},
   "outputs": [],
   "source": [
    "!pip install numpyro"
   ]
  },
  {
   "cell_type": "code",
   "execution_count": null,
   "id": "03ca60e2-b099-4527-8b22-2783ae066df4",
   "metadata": {},
   "outputs": [],
   "source": [
    "!pip install gpflow"
   ]
  },
  {
   "cell_type": "code",
   "execution_count": null,
   "id": "a5b096b3-14d8-42c0-aeac-90a660b2c5e5",
   "metadata": {},
   "outputs": [],
   "source": [
    "cd /content/Bias_Correction/"
   ]
  },
  {
   "cell_type": "code",
   "execution_count": null,
   "id": "863ef228-c70e-42a0-a58c-62d56eb69471",
   "metadata": {},
   "outputs": [],
   "source": [
    "!pip install -e ."
   ]
  },
  {
   "cell_type": "code",
   "execution_count": null,
   "id": "060f2331-98ba-46c9-bead-ccaa45f1ad6d",
   "metadata": {},
   "outputs": [],
   "source": [
    "# manually upload AP_Daily_Snowfall_044_Sample.csv and AP_BGLima_Snowfall_044_Mean_Alpha_stand.csv to /content/Bias_Correction/"
   ]
  },
  {
   "cell_type": "code",
   "execution_count": null,
   "id": "f93c6ff5-c5b3-46bc-a18a-b7a33f4521ff",
   "metadata": {},
   "outputs": [],
   "source": [
    "%run scripts/Lima2021/bg_gp.py '/content/Bias_Correction/'"
   ]
  }
 ],
 "metadata": {
  "kernelspec": {
   "display_name": "bc",
   "language": "python",
   "name": "bc-python"
  },
  "language_info": {
   "codemirror_mode": {
    "name": "ipython",
    "version": 3
   },
   "file_extension": ".py",
   "mimetype": "text/x-python",
   "name": "python",
   "nbconvert_exporter": "python",
   "pygments_lexer": "ipython3",
   "version": "3.9.7"
  }
 },
 "nbformat": 4,
 "nbformat_minor": 5
}
