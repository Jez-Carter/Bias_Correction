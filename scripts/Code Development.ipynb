{
 "cells": [
  {
   "cell_type": "markdown",
   "id": "72a8cb52-a483-431a-99c3-0b31d1bb65f0",
   "metadata": {},
   "source": [
    "***This Notebook is for Code Development***"
   ]
  },
  {
   "cell_type": "markdown",
   "id": "ac102b87-02b0-4cee-810a-ca510b48705a",
   "metadata": {},
   "source": [
    "Anything below the line should be deleted at the end of the day\n",
    "\n",
    "---"
   ]
  }
 ],
 "metadata": {
  "kernelspec": {
   "display_name": "bc",
   "language": "python",
   "name": "bc-python"
  },
  "language_info": {
   "codemirror_mode": {
    "name": "ipython",
    "version": 3
   },
   "file_extension": ".py",
   "mimetype": "text/x-python",
   "name": "python",
   "nbconvert_exporter": "python",
   "pygments_lexer": "ipython3",
   "version": "3.9.7"
  }
 },
 "nbformat": 4,
 "nbformat_minor": 5
}
