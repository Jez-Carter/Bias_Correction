{
 "cells": [
  {
   "cell_type": "code",
   "execution_count": 1,
   "id": "def46f23-1388-4996-8f6e-0cf5a0943801",
   "metadata": {},
   "outputs": [],
   "source": [
    "import os\n",
    "import timeit\n",
    "import numpy as np\n",
    "import jax.numpy as jnp\n",
    "import jax.scipy.stats.gamma as jgamma\n",
    "from jax import random, vmap, jit\n",
    "import numpyro\n",
    "from numpyro.diagnostics import hpdi\n",
    "import numpyro.distributions as dist\n",
    "from numpyro import handlers\n",
    "from numpyro.infer import MCMC, NUTS, HMC, BarkerMH\n",
    "from numpyro.distributions import constraints\n",
    "import matplotlib.pyplot as plt\n",
    "import matplotlib as mpl\n",
    "mpl.rc(\"figure\", figsize=(10, 10))\n",
    "os.environ[\"PROJ_LIB\"] = \"C:\\\\Utilities\\\\Python\\\\Anaconda\\\\Library\\\\share\""
   ]
  },
  {
   "cell_type": "markdown",
   "id": "24088262-7721-4d5d-89d3-ddbcd082280f",
   "metadata": {},
   "source": [
    "# Estimating PDF parameter values"
   ]
  },
  {
   "cell_type": "markdown",
   "id": "ae035552-b1dc-443a-8464-abf4860af7ab",
   "metadata": {},
   "source": [
    "From previous literature (Lima, 2021, https://doi.org/10.1016/j.jhydrol.2021.126095) it seems reasonable to assume a Bernoulli-Gamma distribution for daily snowfall. This has the form:\n",
    "\n",
    "$P(Y_{jk}=y_{jk}) = B(1,p_{jk})\\cdot G(y_{jk}|\\alpha_{jk},\\beta_{jk})$\n",
    "\n",
    "$B(1,p_{jk})\\cdot G(y_{jk}|\\alpha_{jk},\\beta_{jk}) = \\ p_{jk} \\cdot \\dfrac{{\\beta_{jk}}^{\\alpha_{jk}} y_{jk}^{\\alpha_{jk}-1}e^{-\\beta_{jk} y_{jk}}}{\\Gamma(\\alpha_{jk})} \\} \\text{Rainfall} $ \n",
    "\n",
    "$\\ \\ \\ \\ \\ \\ \\ \\ \\ \\ \\ \\ \\ \\ \\ \\ \\ \\ \\ \\ \\ \\ \\ \\ \\ \\ \\ \\ \\ \\ \\ \\ \\ \\ \\ (1-p_{jk}) \\ \\ \\ \\ \\ \\ \\ \\ \\ \\ \\ \\} \\text{No Rainfall}$"
   ]
  },
  {
   "cell_type": "markdown",
   "id": "d5a770ba-eaea-4553-bf05-834c8a4d4eef",
   "metadata": {},
   "source": [
    "The Bernoulli part gives the probability of rainfall (p) or no rainfall (1-p) on a given day at the site \\(j\\) for month \\(k\\) and the Gamma part gives the probability of an intensity of rainfall ($y_{jk}$) on that day given rainfall occurs. The gamma distribution has shape parameter $\\alpha$ and scale parameter $\\beta$. Note: it makes sense to include a Bernoulli term because of the discontinuity expected for the probability of no rainfall. The shape/scale parameters $\\alpha$ and $\\beta$ are estimated at every rainfall gauge and for each month of the year. "
   ]
  },
  {
   "cell_type": "markdown",
   "id": "4f161b48-3cfb-4eaf-802c-9596430b0580",
   "metadata": {},
   "source": [
    "Bayesian inference is used to estimate the parameters $p,\\alpha,\\beta$ for every rainfall gauge and month. \n",
    "\n",
    "\\begin{equation}\n",
    "    P(\\boldsymbol{p,\\alpha,\\beta}|\\boldsymbol{y}) = P(\\boldsymbol{y}|\\boldsymbol{p,\\alpha,\\beta}) \\cdot \\dfrac{P(\\boldsymbol{\\boldsymbol{p,\\alpha,\\beta}})}{P(\\boldsymbol{y})} \\propto P(\\boldsymbol{y}|\\boldsymbol{p,\\alpha,\\beta})\\cdot P(\\boldsymbol{p,\\alpha,\\beta})\n",
    "\\end{equation}\n",
    "\n",
    "\\begin{equation}\n",
    "    P(\\boldsymbol{y}|\\boldsymbol{p,\\alpha,\\beta}) \\cdot P(\\boldsymbol{\\boldsymbol{p,\\alpha,\\beta}}) =\n",
    "    (\\prod_{jk} B(1,p_{jk})\\cdot G(y_{jk}|\\alpha_{jk},\\beta_{jk})) \\cdot P(\\boldsymbol{p,\\alpha,\\beta})\n",
    "\\end{equation}"
   ]
  },
  {
   "cell_type": "markdown",
   "id": "d2679b63-7185-4d4a-8065-06c71ee66ecc",
   "metadata": {
    "tags": []
   },
   "source": [
    "## Bayesian Inference"
   ]
  },
  {
   "cell_type": "markdown",
   "id": "79fbba2e-8e40-4b9c-9819-b658f58bab66",
   "metadata": {},
   "source": [
    "We are treating the parameters $[p,\\alpha,\\beta]$ as stochastic variables here with probability distributions to estimate (the posterior distribution). In addition to simply estimating the parameters that maximise our likelihood, this also allows us to estimate a credible interval and plot the uncertainty on our modelled PDF of snowfall."
   ]
  },
  {
   "cell_type": "markdown",
   "id": "76772e38-a240-45e9-882b-79f43db98c18",
   "metadata": {},
   "source": [
    "$Posterior = \\dfrac{Likelihood \\cdot Prior}{Normalising Constant} $\n",
    "\n",
    "$P(\\boldsymbol{p,\\alpha,\\beta}|\\boldsymbol{y}) = \\dfrac{P(\\boldsymbol{y}|\\boldsymbol{p,\\alpha,\\beta}) \\cdot P(\\boldsymbol{\\boldsymbol{p,\\alpha,\\beta}})}{P(\\boldsymbol{y})} $\n",
    "\n",
    "$P(\\boldsymbol{y}|\\boldsymbol{p,\\alpha,\\beta})\\cdot P(\\boldsymbol{p,\\alpha,\\beta}) = \\prod_{i} B(1,p)\\cdot G(y_{i}|\\alpha,\\beta)\\cdot P(p,\\alpha,\\beta)$\n",
    "\n",
    "$P(\\boldsymbol{y}) = \\iiint\\limits_{\\theta} P(\\boldsymbol{y}|\\boldsymbol{p,\\alpha,\\beta})\\cdot P(\\boldsymbol{p,\\alpha,\\beta}) \\,dp\\,d\\alpha\\,d\\beta$\n",
    "\n",
    "Note we don't need the normalising constant to estimate the most likely values of the parameters $\\theta=[p,\\alpha,\\beta]$ (MAP), but we do need it for normalising the distributions of the parameters and so for uncertainty estimates. Note also that MLE is just MAP but with uniform priors and that MAP is not much more difficult than MLE and can be done with a basic minimizer. The point of full Bayesian inference is we are actually getting a posterior probability, which is harder to do than to just maximise it. This gives us a distribution over the parameters with which to construct credibility intervals. \n"
   ]
  },
  {
   "cell_type": "markdown",
   "id": "13ea0b19-8dab-4bac-880c-31298653f739",
   "metadata": {
    "tags": []
   },
   "source": [
    "### Single Site, Single Month Example"
   ]
  },
  {
   "cell_type": "markdown",
   "id": "55e4cd9e-930e-4862-8e6b-b64573e7c3f1",
   "metadata": {},
   "source": [
    "For a single site and single month we have:\n",
    "\n",
    "$P(Y=y) = B(1,p)\\cdot G(y|\\alpha,\\beta)$\n",
    "\n",
    "$B(1,p)\\cdot G(y|\\alpha,\\beta) = \\ p \\cdot \\dfrac{\\beta^\\alpha y^{\\alpha-1}e^{-\\beta y}}{\\Gamma(\\alpha)} \\} \\text{Rainfall} $ \n",
    "\n",
    "$\\ \\ \\ \\ \\ \\ \\ \\ \\ \\ \\ \\ \\ \\ \\ \\ \\ \\ \\ \\ \\ \\ \\ \\ \\ \\ \\ \\ \\ \\ \\ \\ \\ \\ \\ (1-p) \\ \\ \\ \\ \\ \\ \\ \\ \\ \\ \\ \\} \\text{No Rainfall}$\n",
    "\n",
    "$Likelihood = P(\\boldsymbol{Y}|p,\\alpha,\\beta)=L(\\boldsymbol{Y}|p,\\alpha,\\beta)=\\prod_{i} B(1,p)\\cdot G(y_{i}|\\alpha,\\beta)$\n",
    "\n",
    "$Log Likehood = Log(L(\\boldsymbol{Y}|p,\\alpha,\\beta))= LL(\\boldsymbol{Y}|p,\\alpha,\\beta) =Log(\\prod_{i} B(1,p)\\cdot G(y_{i}|\\alpha,\\beta))=\\sum_{i} Log(B(1,p)\\cdot G(y_{i}|\\alpha,\\beta))$"
   ]
  },
  {
   "cell_type": "markdown",
   "id": "e72a5675-c34c-44df-b520-67aa2162cbc6",
   "metadata": {
    "tags": []
   },
   "source": [
    "#### Example of Doing MCMC with Numpyro"
   ]
  },
  {
   "cell_type": "markdown",
   "id": "5f3e0829-7f7c-4f66-a189-293bcd16a825",
   "metadata": {},
   "source": [
    "\"NumPyro is a small probabilistic programming library that provides a NumPy backend for Pyro. We rely on JAX for automatic differentiation and JIT compilation to GPU / CPU. This is an alpha release under active development, so beware of brittleness, bugs, and changes to the API as the design evolves.\"\n",
    "\n",
    "Note Numpyro code can be constructed using similar syntax to numpy but using jax.numpy (jnp) instead of numpy (np)."
   ]
  },
  {
   "cell_type": "code",
   "execution_count": 2,
   "id": "74095188-0116-4c3b-8609-f36d80170ea3",
   "metadata": {},
   "outputs": [],
   "source": [
    "data = np.load(\n",
    "    \"/data/notebooks/jupyterlab-biascorrlab/data/single_site_jan_precip_high_snowfall.npy\"\n",
    ")  # This is 38 years of daily data for January"
   ]
  },
  {
   "cell_type": "code",
   "execution_count": 3,
   "id": "9857727a-1abb-4ecb-889a-7491bd4df296",
   "metadata": {},
   "outputs": [],
   "source": [
    "# Converting dataset to jax dataset\n",
    "jdata = jnp.array(data)"
   ]
  },
  {
   "cell_type": "code",
   "execution_count": 4,
   "id": "de0888c9-ccb1-476b-b9fd-0595552cca9f",
   "metadata": {},
   "outputs": [],
   "source": [
    "class BernoulliGamma(numpyro.distributions.Distribution):\n",
    "    support = constraints.positive\n",
    "\n",
    "    def __init__(self, params):\n",
    "        self.p = params[0]\n",
    "        self.alpha = params[1]\n",
    "        self.scale = params[2]\n",
    "        super().__init__(batch_shape=jnp.shape(params[0]), event_shape=())\n",
    "\n",
    "    def sample(self, key, sample_shape=()):\n",
    "        raise NotImplementedError\n",
    "\n",
    "    def log_prob(self, value):\n",
    "\n",
    "        return jnp.log(1 - self.p) * jnp.sum(jnp.where(value == 0, 1, 0)) + jnp.sum(\n",
    "            jnp.where(\n",
    "                value != 0,\n",
    "                jnp.log(\n",
    "                    self.p\n",
    "                    * jgamma.pdf(\n",
    "                        jnp.where(value == 0, 1, value),\n",
    "                        a=self.alpha,\n",
    "                        loc=0,\n",
    "                        scale=self.scale,\n",
    "                    )  # Note I use np.where because jax and jit compiling doesn't work with list comprehension (e.g. [value[value!=0]]) (In addition I use it to avoid computing gamma for values of 0.\n",
    "                ),\n",
    "                0,\n",
    "            )\n",
    "        )"
   ]
  },
  {
   "cell_type": "code",
   "execution_count": 5,
   "id": "9bfb84f6-746c-41bb-9217-0992b946146c",
   "metadata": {},
   "outputs": [],
   "source": [
    "def single_site_model(dataset):\n",
    "\n",
    "    # Define Priors (All Non-Informative)\n",
    "    p = numpyro.sample(\"p\", dist.Uniform(0, 1.0))\n",
    "    alpha = numpyro.sample(\"alpha\", dist.Gamma(0.001, 0.001))\n",
    "    scale = numpyro.sample(\"scale\", dist.Gamma(0.001, 0.001))\n",
    "\n",
    "    # Include Likelihood\n",
    "    numpyro.sample(\"obs\", BernoulliGamma([p, alpha, scale]), obs=dataset)"
   ]
  },
  {
   "cell_type": "code",
   "execution_count": 6,
   "id": "a2327094-3eb1-4b0c-83fb-403485e95ab5",
   "metadata": {},
   "outputs": [
    {
     "data": {
      "image/svg+xml": [
       "<?xml version=\"1.0\" encoding=\"UTF-8\" standalone=\"no\"?>\n",
       "<!DOCTYPE svg PUBLIC \"-//W3C//DTD SVG 1.1//EN\"\n",
       " \"http://www.w3.org/Graphics/SVG/1.1/DTD/svg11.dtd\">\n",
       "<!-- Generated by graphviz version 2.43.0 (0)\n",
       " -->\n",
       "<!-- Title: %3 Pages: 1 -->\n",
       "<svg width=\"379pt\" height=\"148pt\"\n",
       " viewBox=\"0.00 0.00 379.00 148.00\" xmlns=\"http://www.w3.org/2000/svg\" xmlns:xlink=\"http://www.w3.org/1999/xlink\">\n",
       "<g id=\"graph0\" class=\"graph\" transform=\"scale(1 1) rotate(0) translate(4 144)\">\n",
       "<title>%3</title>\n",
       "<polygon fill=\"white\" stroke=\"transparent\" points=\"-4,4 -4,-144 375,-144 375,4 -4,4\"/>\n",
       "<!-- p -->\n",
       "<g id=\"node1\" class=\"node\">\n",
       "<title>p</title>\n",
       "<ellipse fill=\"white\" stroke=\"black\" cx=\"27\" cy=\"-106\" rx=\"27\" ry=\"18\"/>\n",
       "<text text-anchor=\"middle\" x=\"27\" y=\"-102.3\" font-family=\"Times,serif\" font-size=\"14.00\">p</text>\n",
       "</g>\n",
       "<!-- obs -->\n",
       "<g id=\"node4\" class=\"node\">\n",
       "<title>obs</title>\n",
       "<ellipse fill=\"grey\" stroke=\"black\" cx=\"102\" cy=\"-18\" rx=\"27\" ry=\"18\"/>\n",
       "<text text-anchor=\"middle\" x=\"102\" y=\"-14.3\" font-family=\"Times,serif\" font-size=\"14.00\">obs</text>\n",
       "</g>\n",
       "<!-- p&#45;&gt;obs -->\n",
       "<g id=\"edge1\" class=\"edge\">\n",
       "<title>p&#45;&gt;obs</title>\n",
       "<path fill=\"none\" stroke=\"black\" d=\"M40.06,-90.02C51.68,-76.7 68.83,-57.03 82.15,-41.77\"/>\n",
       "<polygon fill=\"black\" stroke=\"black\" points=\"85.15,-43.65 89.09,-33.81 79.88,-39.04 85.15,-43.65\"/>\n",
       "</g>\n",
       "<!-- alpha -->\n",
       "<g id=\"node2\" class=\"node\">\n",
       "<title>alpha</title>\n",
       "<ellipse fill=\"white\" stroke=\"black\" cx=\"102\" cy=\"-106\" rx=\"29.8\" ry=\"18\"/>\n",
       "<text text-anchor=\"middle\" x=\"102\" y=\"-102.3\" font-family=\"Times,serif\" font-size=\"14.00\">alpha</text>\n",
       "</g>\n",
       "<!-- alpha&#45;&gt;obs -->\n",
       "<g id=\"edge2\" class=\"edge\">\n",
       "<title>alpha&#45;&gt;obs</title>\n",
       "<path fill=\"none\" stroke=\"black\" d=\"M102,-87.6C102,-75.75 102,-59.82 102,-46.29\"/>\n",
       "<polygon fill=\"black\" stroke=\"black\" points=\"105.5,-46.08 102,-36.08 98.5,-46.08 105.5,-46.08\"/>\n",
       "</g>\n",
       "<!-- scale -->\n",
       "<g id=\"node3\" class=\"node\">\n",
       "<title>scale</title>\n",
       "<ellipse fill=\"white\" stroke=\"black\" cx=\"178\" cy=\"-106\" rx=\"28.7\" ry=\"18\"/>\n",
       "<text text-anchor=\"middle\" x=\"178\" y=\"-102.3\" font-family=\"Times,serif\" font-size=\"14.00\">scale</text>\n",
       "</g>\n",
       "<!-- scale&#45;&gt;obs -->\n",
       "<g id=\"edge3\" class=\"edge\">\n",
       "<title>scale&#45;&gt;obs</title>\n",
       "<path fill=\"none\" stroke=\"black\" d=\"M164.76,-90.02C152.88,-76.58 135.29,-56.67 121.75,-41.34\"/>\n",
       "<polygon fill=\"black\" stroke=\"black\" points=\"124.33,-38.98 115.09,-33.81 119.09,-43.62 124.33,-38.98\"/>\n",
       "</g>\n",
       "<!-- distribution_description_node -->\n",
       "<g id=\"node5\" class=\"node\">\n",
       "<title>distribution_description_node</title>\n",
       "<text text-anchor=\"start\" x=\"233\" y=\"-124.8\" font-family=\"Times,serif\" font-size=\"14.00\">p ~ Uniform</text>\n",
       "<text text-anchor=\"start\" x=\"233\" y=\"-109.8\" font-family=\"Times,serif\" font-size=\"14.00\">alpha ~ Gamma</text>\n",
       "<text text-anchor=\"start\" x=\"233\" y=\"-94.8\" font-family=\"Times,serif\" font-size=\"14.00\">scale ~ Gamma</text>\n",
       "<text text-anchor=\"start\" x=\"233\" y=\"-79.8\" font-family=\"Times,serif\" font-size=\"14.00\">obs ~ BernoulliGamma</text>\n",
       "</g>\n",
       "</g>\n",
       "</svg>\n"
      ],
      "text/plain": [
       "<graphviz.graphs.Digraph at 0x7fb1e057f8e0>"
      ]
     },
     "execution_count": 6,
     "metadata": {},
     "output_type": "execute_result"
    }
   ],
   "source": [
    "numpyro.render_model(single_site_model, model_args=(data,), render_distributions=True)"
   ]
  },
  {
   "cell_type": "code",
   "execution_count": 7,
   "id": "308a4e50-441c-437f-94f7-5e6ed4be39e1",
   "metadata": {
    "tags": []
   },
   "outputs": [
    {
     "name": "stderr",
     "output_type": "stream",
     "text": [
      "sample: 100%|██████████| 1500/1500 [00:04<00:00, 316.07it/s, 3 steps of size 7.11e-01. acc. prob=0.89]\n"
     ]
    },
    {
     "name": "stdout",
     "output_type": "stream",
     "text": [
      "\n",
      "                mean       std    median      5.0%     95.0%     n_eff     r_hat\n",
      "     alpha      0.58      0.02      0.58      0.54      0.61    589.53      1.00\n",
      "         p      0.72      0.01      0.72      0.70      0.74    625.04      1.00\n",
      "     scale     11.43      0.67     11.44     10.26     12.40    696.98      1.00\n",
      "\n",
      "Number of divergences: 0\n",
      "Time Taken: 7.838474527001381\n"
     ]
    }
   ],
   "source": [
    "# Numpyro syntax for running MCMC\n",
    "starttime = timeit.default_timer()\n",
    "\n",
    "# Start from this source of randomness. We will split keys for subsequent operations.\n",
    "rng_key = random.PRNGKey(0)\n",
    "rng_key, rng_key_ = random.split(rng_key)\n",
    "\n",
    "# Run NUTS.\n",
    "kernel = NUTS(single_site_model)\n",
    "# kernel = HMC(single_site_model)\n",
    "# kernel = BarkerMH(single_site_model)\n",
    "num_samples = 1000\n",
    "num_warmup = 500\n",
    "mcmc = MCMC(kernel, num_warmup=num_warmup, num_samples=num_samples)  # ,num_chains=2)\n",
    "mcmc.run(rng_key_, jdata)\n",
    "mcmc.print_summary()\n",
    "samples_1 = mcmc.get_samples()\n",
    "\n",
    "print(\"Time Taken:\", timeit.default_timer() - starttime)"
   ]
  },
  {
   "cell_type": "code",
   "execution_count": 8,
   "id": "903edacb-6d7e-47c0-ac49-44e2000a00ae",
   "metadata": {},
   "outputs": [],
   "source": [
    "# Plotting Likelihood against PDF of Data\n",
    "ps = jnp.expand_dims(samples_1[\"p\"], -1)\n",
    "alphas = jnp.expand_dims(samples_1[\"alpha\"], -1)\n",
    "scales = jnp.expand_dims(samples_1[\"scale\"], -1)\n",
    "\n",
    "bins = np.arange(0, 5, 0.1)\n",
    "bin_centers = bins + bins[1] / 2\n",
    "\n",
    "likelihood_values = ps * jgamma.pdf(bin_centers, a=alphas, loc=0, scale=scales)\n",
    "\n",
    "zero_likelihood_values = 1 - ps"
   ]
  },
  {
   "cell_type": "code",
   "execution_count": 9,
   "id": "16a2bdab-e110-4e71-bf37-fa7b7ee78fca",
   "metadata": {},
   "outputs": [],
   "source": [
    "# Finding mean values of the likelihood and 10th percentiles.\n",
    "mean_l = jnp.mean(jnp.array(likelihood_values), axis=0)\n",
    "hpdi_l = hpdi(jnp.array(likelihood_values), 0.95)\n",
    "lower_l = hpdi_l[0]\n",
    "upper_l = hpdi_l[1]\n",
    "\n",
    "zero_mean_l = jnp.mean(jnp.array(zero_likelihood_values), axis=0)\n",
    "zero_hpdi_l = hpdi(jnp.array(zero_likelihood_values), 0.95)\n",
    "zero_lower_l = zero_hpdi_l[0]\n",
    "zero_upper_l = zero_hpdi_l[1]\n",
    "zero_lower_error = zero_mean_l - zero_lower_l\n",
    "zero_upper_error = zero_upper_l - zero_mean_l\n",
    "error = np.array([zero_lower_error[0], zero_upper_error[0]]).reshape(2, 1)"
   ]
  },
  {
   "cell_type": "code",
   "execution_count": 10,
   "id": "ce2466b2-e080-466e-82c8-d2c1828d20bd",
   "metadata": {},
   "outputs": [
    {
     "data": {
      "image/png": "[encoded data removed]",
      "text/plain": [
       "<Figure size 720x720 with 1 Axes>"
      ]
     },
     "metadata": {
      "needs_background": "light"
     },
     "output_type": "display_data"
    }
   ],
   "source": [
    "bin_width = bins[1] - bins[0]\n",
    "p_data = len(data[data != 0]) / len(data)\n",
    "weight_value = p_data / bin_width / len(data[data != 0])\n",
    "weights = np.full(len(data[data != 0]), weight_value)\n",
    "\n",
    "plt.hist(\n",
    "    data[data != 0],\n",
    "    bins=bins,\n",
    "    histtype=\"step\",\n",
    "    stacked=True,\n",
    "    fill=False,\n",
    "    weights=weights,\n",
    ")\n",
    "\n",
    "plt.plot(bin_centers, mean_l)\n",
    "plt.fill_between(bin_centers, y1=lower_l, y2=upper_l, alpha=0.4)\n",
    "\n",
    "plt.plot(0, 1 - ps.mean(), \"bo\")\n",
    "# plt.plot(0,1-p_data,'rx')\n",
    "plt.errorbar(0, zero_mean_l, yerr=error, capsize=3)\n",
    "\n",
    "plt.show()"
   ]
  },
  {
   "cell_type": "code",
   "execution_count": 11,
   "id": "d59a76ef-28c5-4bee-af3e-ed78a7c7af0c",
   "metadata": {},
   "outputs": [],
   "source": [
    "# from numpyro.infer import Predictive\n",
    "\n",
    "# rng_key = random.PRNGKey(0)\n",
    "\n",
    "# rng_key, rng_key_ = random.split(rng_key)\n",
    "# prior_predictive = Predictive(single_site_model, posterior_samples=samples_1)\n",
    "# prior_predictions = prior_predictive(rng_key_, data)[\"obs\"]\n",
    "# mean_prior_pred = jnp.mean(prior_predictions, axis=0)\n",
    "# hpdi_prior_pred = hpdi(prior_predictions, 0.9)\n",
    "\n",
    "# # ax = plot_regression(dset.MarriageScaled.values, mean_prior_pred, hpdi_prior_pred)\n",
    "# # ax.set(xlabel=\"Marriage rate\", ylabel=\"Divorce rate\", title=\"Predictions with 90% CI\");"
   ]
  }
 ],
 "metadata": {
  "kernelspec": {
   "display_name": "bc",
   "language": "python",
   "name": "bc-python"
  },
  "language_info": {
   "codemirror_mode": {
    "name": "ipython",
    "version": 3
   },
   "file_extension": ".py",
   "mimetype": "text/x-python",
   "name": "python",
   "nbconvert_exporter": "python",
   "pygments_lexer": "ipython3",
   "version": "3.9.7"
  }
 },
 "nbformat": 4,
 "nbformat_minor": 5
}
