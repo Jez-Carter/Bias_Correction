{
 "cells": [
  {
   "cell_type": "code",
   "execution_count": 1,
   "id": "eae04270-e1eb-479c-9e1d-9df431878185",
   "metadata": {},
   "outputs": [],
   "source": [
    "import timeit\n",
    "import numpy as np\n",
    "import jax.numpy as jnp\n",
    "from jax import random, vmap, jit\n",
    "import jax.scipy.stats.gamma as jgamma\n",
    "import numpyro\n",
    "import numpyro.distributions as dist\n",
    "from numpyro.diagnostics import hpdi\n",
    "from numpyro.infer import MCMC, NUTS, HMC, BarkerMH\n",
    "from IPython.display import IFrame\n",
    "\n",
    "import matplotlib.pyplot as plt\n",
    "import matplotlib as mpl\n",
    "import os\n",
    "\n",
    "mpl.rc(\"figure\", figsize=(10, 10))\n",
    "os.environ[\"PROJ_LIB\"] = \"C:\\\\Utilities\\\\Python\\\\Anaconda\\\\Library\\\\share\"\n",
    "\n",
    "from src.model_fitting_functions import BernoulliGamma"
   ]
  },
  {
   "cell_type": "markdown",
   "id": "d4bc2619-ec13-4b35-b927-2fd16b32f73d",
   "metadata": {},
   "source": [
    "# What is JAX?"
   ]
  },
  {
   "cell_type": "markdown",
   "id": "d16f6bb5-c4ca-4131-a528-d392d81ee6ca",
   "metadata": {},
   "source": [
    "Accelerated Numpy - Works on GPUs"
   ]
  },
  {
   "cell_type": "code",
   "execution_count": 2,
   "id": "18a170f0-1cf8-4f47-9ea3-2617d14297f9",
   "metadata": {},
   "outputs": [
    {
     "data": {
      "text/html": [
       "\n",
       "        <iframe\n",
       "            width=\"600\"\n",
       "            height=\"300\"\n",
       "            src=\"https://www.youtube.com/embed/0mVmRHMaOJ4\"\n",
       "            frameborder=\"0\"\n",
       "            allowfullscreen\n",
       "            \n",
       "        ></iframe>\n",
       "        "
      ],
      "text/plain": [
       "<IPython.lib.display.IFrame at 0x7f39f83bb640>"
      ]
     },
     "execution_count": 2,
     "metadata": {},
     "output_type": "execute_result"
    }
   ],
   "source": [
    "IFrame(src=\"https://www.youtube.com/embed/0mVmRHMaOJ4\", width=600, height=300)"
   ]
  },
  {
   "cell_type": "markdown",
   "id": "6273572b-0ac2-499c-bf80-6324b97e989e",
   "metadata": {},
   "source": [
    "Uses Accelerated Linear Algebra (XLA) - Compiles and runs numpy programs on GPUs\n",
    "\n",
    "JIT compilation of custom functions. \n",
    "grad, jit, pmap, vmap"
   ]
  },
  {
   "cell_type": "markdown",
   "id": "60fbaeb4-bd91-4471-984c-f9abd7b06ddd",
   "metadata": {},
   "source": [
    "# What is Numpyro"
   ]
  },
  {
   "cell_type": "markdown",
   "id": "8936b097-5848-4d35-b4bb-3ea9e63f10a4",
   "metadata": {},
   "source": [
    "https://github.com/pyro-ppl/numpyro"
   ]
  },
  {
   "cell_type": "markdown",
   "id": "d993d0bf-fce9-4aab-a97a-20c1fef67148",
   "metadata": {},
   "source": [
    "MCMC with JAX (Pyro with JAX rather than pytorch)"
   ]
  },
  {
   "cell_type": "markdown",
   "id": "70d2e145-7615-4e86-bd06-b8f8baa8b4da",
   "metadata": {},
   "source": [
    "# Example"
   ]
  },
  {
   "cell_type": "code",
   "execution_count": 3,
   "id": "ae0aa0dc-7e53-4f7f-8638-5acf81b0939d",
   "metadata": {},
   "outputs": [],
   "source": [
    "jan_data = np.load(\n",
    "    \"/data/notebooks/jupyterlab-biascorrlab/data/multi_site_jan_precip.npy\"\n",
    ")  # This is 38 years of daily data for January\n",
    "\n",
    "feb_data = np.load(\n",
    "    \"/data/notebooks/jupyterlab-biascorrlab/data/multi_site_feb_precip.npy\"\n",
    ")  # This is 38 years of daily data for February"
   ]
  },
  {
   "cell_type": "code",
   "execution_count": 4,
   "id": "8a789594-9cef-4309-af28-4caf07fc5992",
   "metadata": {},
   "outputs": [],
   "source": [
    "jdata = jnp.array([jan_data[:1000, :], feb_data[:1000, :]]) #JAX Device Array"
   ]
  },
  {
   "cell_type": "code",
   "execution_count": 5,
   "id": "dab27e74-0f7d-4c93-b241-20c5014dcca7",
   "metadata": {},
   "outputs": [
    {
     "data": {
      "text/plain": [
       "(1000, 2, 5)"
      ]
     },
     "execution_count": 5,
     "metadata": {},
     "output_type": "execute_result"
    }
   ],
   "source": [
    "jdata = np.moveaxis(jdata, 1, 0)\n",
    "jdata.shape"
   ]
  },
  {
   "cell_type": "markdown",
   "id": "9c6ddbb7-95d9-4bae-928a-15400283e034",
   "metadata": {},
   "source": [
    "Bayesian Inference:\n",
    "\n",
    "$Posterior = \\dfrac{Likelihood \\cdot Prior}{Normalising Constant} $\n",
    "\n",
    "$P(\\boldsymbol{p,\\alpha,\\beta}|\\boldsymbol{y}) = \\dfrac{P(\\boldsymbol{y}|\\boldsymbol{p,\\alpha,\\beta}) \\cdot P(\\boldsymbol{\\boldsymbol{p,\\alpha,\\beta}})}{P(\\boldsymbol{y})} $\n",
    "\n",
    "---\n",
    "\n",
    "Likelihood:\n",
    "\n",
    "$P(Y_{jk}=y_{jk}) = B(1,p_{jk})\\cdot G(y_{jk}|\\alpha_{jk},\\beta_{jk})$\n",
    "\n",
    "$B(1,p_{jk})\\cdot G(y_{jk}|\\alpha_{jk},\\beta_{jk}) = \\ p_{jk} \\cdot \\dfrac{{\\beta_{jk}}^{\\alpha_{jk}} y_{jk}^{\\alpha_{jk}-1}e^{-\\beta_{jk} y_{jk}}}{\\Gamma(\\alpha_{jk})} \\} \\text{Rainfall} $ \n",
    "\n",
    "$\\ \\ \\ \\ \\ \\ \\ \\ \\ \\ \\ \\ \\ \\ \\ \\ \\ \\ \\ \\ \\ \\ \\ \\ \\ \\ \\ \\ \\ \\ \\ \\ \\ \\ \\ (1-p_{jk}) \\ \\ \\ \\ \\ \\ \\ \\ \\ \\ \\ \\} \\text{No Rainfall}$\n",
    "\n",
    "Modelling correlation between parameters:\n",
    "\n",
    "$\\beta_{jk} \\sim  LN(a_0+a_1 \\cdot \\alpha_{jk},\\sigma^{2})$\n",
    "\n",
    "The set of parameters $[a_0,a_1,\\sigma]$ are hyper-parameters, in that they are not dependent on j or k.\n",
    "\n",
    "$Likelihood = P(\\boldsymbol{Y}|\\boldsymbol{p},\\boldsymbol{\\alpha},\\beta) = \\prod_\\limits{jk}P(Y_{jk}|p_{jk},\\alpha_{jk},a_{0},a_{1},{\\sigma}^2) = \\prod_\\limits{ijk} B(1,p_{jk})\\cdot G(y_{i}|\\alpha_{jk},a_{0},a_{1},{\\sigma}^2)$\n",
    "\n",
    "$Log Likehood = Log(\\prod_\\limits{ijk} B(1,p_{jk})\\cdot G(y_{i}|\\alpha_{jk},a_{0},a_{1},{\\sigma}^2)) = \\sum_\\limits{ijk} Log(B(1,p_{jk})\\cdot G(y_{i}|\\alpha_{jk},a_{0},a_{1},{\\sigma}^2))$\n",
    "\n",
    "---\n",
    "\n",
    "Posterior\n",
    "\n",
    "Numerator: $P(\\boldsymbol{y}|\\boldsymbol{p,\\alpha,\\beta})\\cdot P(\\boldsymbol{p,\\alpha,\\beta}) = \\prod_{i} B(1,p)\\cdot G(y_{i}|\\alpha,\\beta)\\cdot P(p,\\alpha,\\beta)$\n",
    "\n",
    "Denominator: $P(\\boldsymbol{y}) = \\iiint\\limits_{\\theta} P(\\boldsymbol{y}|\\boldsymbol{p,\\alpha,\\beta})\\cdot P(\\boldsymbol{p,\\alpha,\\beta}) \\,dp\\,d\\alpha\\,d\\beta$"
   ]
  },
  {
   "cell_type": "markdown",
   "id": "c780ef77-b102-4884-9b82-127d8704465d",
   "metadata": {},
   "source": [
    "# MCMC "
   ]
  },
  {
   "cell_type": "markdown",
   "id": "f4fa5978-320d-47a1-9cd9-c0f04286cabd",
   "metadata": {},
   "source": [
    "https://towardsdatascience.com/mcmc-intuition-for-everyone-5ae79fff22b1"
   ]
  },
  {
   "cell_type": "code",
   "execution_count": 6,
   "id": "d6fb6821-17aa-4337-af7b-fd4488a7f4fc",
   "metadata": {},
   "outputs": [
    {
     "data": {
      "text/html": [
       "\n",
       "        <iframe\n",
       "            width=\"600\"\n",
       "            height=\"300\"\n",
       "            src=\"https://www.youtube.com/embed/yApmR-c_hKU\"\n",
       "            frameborder=\"0\"\n",
       "            allowfullscreen\n",
       "            \n",
       "        ></iframe>\n",
       "        "
      ],
      "text/plain": [
       "<IPython.lib.display.IFrame at 0x7f39f83bb610>"
      ]
     },
     "execution_count": 6,
     "metadata": {},
     "output_type": "execute_result"
    }
   ],
   "source": [
    "IFrame(src=\"https://www.youtube.com/embed/yApmR-c_hKU\", width=600, height=300)"
   ]
  },
  {
   "cell_type": "markdown",
   "id": "9e555be4-fd65-4c74-88cc-5f25fd9f1120",
   "metadata": {},
   "source": [
    "# The Model"
   ]
  },
  {
   "cell_type": "code",
   "execution_count": 7,
   "id": "e5a07d70-826e-441e-8c3a-61e123cfcd6a",
   "metadata": {},
   "outputs": [],
   "source": [
    "def parametric_dependency_model(jdata):\n",
    "\n",
    "    # Hyper-Params: (These are used to describe the relationship between alpha and the scale parameter from the Bernoulli-Gamma dist.)\n",
    "    a0 = numpyro.sample(\"a0\", dist.Uniform(-10, 10.0))\n",
    "    a1 = numpyro.sample(\"a1\", dist.Uniform(-10, 10.0))\n",
    "    betavar = numpyro.sample(\"betavar\", dist.InverseGamma(0.001, 0.001))\n",
    "    \n",
    "    # Number of Months and Sites\n",
    "    months = jdata.shape[1]\n",
    "    sites = jdata.shape[2]\n",
    "\n",
    "    with numpyro.plate(\"Months\", months, dim=-2) as k:\n",
    "        with numpyro.plate(\"Sites\", sites, dim=-1) as j:\n",
    "            \n",
    "            # Bernoulli-Gamma Params\n",
    "            p = numpyro.sample(\"p\", dist.Uniform(0.01, 0.99))\n",
    "            alpha = numpyro.sample(\"alpha\", dist.Gamma(0.001, 0.001))\n",
    "            scale = jnp.reciprocal(\n",
    "                numpyro.sample(\n",
    "                    \"beta\",\n",
    "                    dist.LogNormal(\n",
    "                        a0 + a1 * alpha,\n",
    "                        betavar,\n",
    "                    ),\n",
    "                )\n",
    "            )\n",
    "\n",
    "            numpyro.sample(\n",
    "                \"obs\",\n",
    "                BernoulliGamma([p, alpha, scale]),\n",
    "                obs=jdata,\n",
    "            )"
   ]
  },
  {
   "cell_type": "code",
   "execution_count": 8,
   "id": "8c4387ad-5682-4781-afd7-118a1f239441",
   "metadata": {},
   "outputs": [
    {
     "data": {
      "image/svg+xml": [
       "<?xml version=\"1.0\" encoding=\"UTF-8\" standalone=\"no\"?>\n",
       "<!DOCTYPE svg PUBLIC \"-//W3C//DTD SVG 1.1//EN\"\n",
       " \"http://www.w3.org/Graphics/SVG/1.1/DTD/svg11.dtd\">\n",
       "<!-- Generated by graphviz version 2.43.0 (0)\n",
       " -->\n",
       "<!-- Title: %3 Pages: 1 -->\n",
       "<svg width=\"574pt\" height=\"335pt\"\n",
       " viewBox=\"0.00 0.00 573.50 335.00\" xmlns=\"http://www.w3.org/2000/svg\" xmlns:xlink=\"http://www.w3.org/1999/xlink\">\n",
       "<g id=\"graph0\" class=\"graph\" transform=\"scale(1 1) rotate(0) translate(4 331)\">\n",
       "<title>%3</title>\n",
       "<polygon fill=\"white\" stroke=\"transparent\" points=\"-4,4 -4,-331 569.5,-331 569.5,4 -4,4\"/>\n",
       "<g id=\"clust1\" class=\"cluster\">\n",
       "<title>cluster_Months</title>\n",
       "<polygon fill=\"none\" stroke=\"black\" points=\"62,-8 62,-304.5 240,-304.5 240,-8 62,-8\"/>\n",
       "<text text-anchor=\"middle\" x=\"210.5\" y=\"-15.8\" font-family=\"Times,serif\" font-size=\"14.00\">Months</text>\n",
       "</g>\n",
       "<g id=\"clust2\" class=\"cluster\">\n",
       "<title>cluster_Sites</title>\n",
       "<polygon fill=\"none\" stroke=\"black\" points=\"70,-39 70,-296.5 232,-296.5 232,-39 70,-39\"/>\n",
       "<text text-anchor=\"middle\" x=\"210.5\" y=\"-46.8\" font-family=\"Times,serif\" font-size=\"14.00\">Sites</text>\n",
       "</g>\n",
       "<!-- a0 -->\n",
       "<g id=\"node1\" class=\"node\">\n",
       "<title>a0</title>\n",
       "<ellipse fill=\"white\" stroke=\"black\" cx=\"27\" cy=\"-270.5\" rx=\"27\" ry=\"18\"/>\n",
       "<text text-anchor=\"middle\" x=\"27\" y=\"-266.8\" font-family=\"Times,serif\" font-size=\"14.00\">a0</text>\n",
       "</g>\n",
       "<!-- beta -->\n",
       "<g id=\"node6\" class=\"node\">\n",
       "<title>beta</title>\n",
       "<ellipse fill=\"white\" stroke=\"black\" cx=\"125\" cy=\"-160\" rx=\"27\" ry=\"18\"/>\n",
       "<text text-anchor=\"middle\" x=\"125\" y=\"-156.3\" font-family=\"Times,serif\" font-size=\"14.00\">beta</text>\n",
       "</g>\n",
       "<!-- a0&#45;&gt;beta -->\n",
       "<g id=\"edge1\" class=\"edge\">\n",
       "<title>a0&#45;&gt;beta</title>\n",
       "<path fill=\"none\" stroke=\"black\" d=\"M37.03,-253.24C44.42,-241.77 55.06,-226.33 66,-214 76.52,-202.15 89.5,-190.24 100.61,-180.73\"/>\n",
       "<polygon fill=\"black\" stroke=\"black\" points=\"102.9,-183.37 108.3,-174.25 98.39,-178.01 102.9,-183.37\"/>\n",
       "</g>\n",
       "<!-- a1 -->\n",
       "<g id=\"node2\" class=\"node\">\n",
       "<title>a1</title>\n",
       "<ellipse fill=\"white\" stroke=\"black\" cx=\"275\" cy=\"-270.5\" rx=\"27\" ry=\"18\"/>\n",
       "<text text-anchor=\"middle\" x=\"275\" y=\"-266.8\" font-family=\"Times,serif\" font-size=\"14.00\">a1</text>\n",
       "</g>\n",
       "<!-- a1&#45;&gt;beta -->\n",
       "<g id=\"edge2\" class=\"edge\">\n",
       "<title>a1&#45;&gt;beta</title>\n",
       "<path fill=\"none\" stroke=\"black\" d=\"M266.57,-253.21C259.67,-241.14 248.95,-224.95 236,-214 235.15,-213.28 188.16,-190.94 155.6,-175.5\"/>\n",
       "<polygon fill=\"black\" stroke=\"black\" points=\"156.98,-172.28 146.44,-171.15 153.98,-178.6 156.98,-172.28\"/>\n",
       "</g>\n",
       "<!-- betavar -->\n",
       "<g id=\"node3\" class=\"node\">\n",
       "<title>betavar</title>\n",
       "<ellipse fill=\"white\" stroke=\"black\" cx=\"356\" cy=\"-270.5\" rx=\"36.29\" ry=\"18\"/>\n",
       "<text text-anchor=\"middle\" x=\"356\" y=\"-266.8\" font-family=\"Times,serif\" font-size=\"14.00\">betavar</text>\n",
       "</g>\n",
       "<!-- betavar&#45;&gt;beta -->\n",
       "<g id=\"edge3\" class=\"edge\">\n",
       "<title>betavar&#45;&gt;beta</title>\n",
       "<path fill=\"none\" stroke=\"black\" d=\"M346.7,-252.91C338.8,-240.35 326.32,-223.66 311,-214 253,-177.44 225.67,-200.76 161,-178 159.09,-177.33 157.15,-176.59 155.21,-175.81\"/>\n",
       "<polygon fill=\"black\" stroke=\"black\" points=\"156.2,-172.42 145.63,-171.63 153.4,-178.84 156.2,-172.42\"/>\n",
       "</g>\n",
       "<!-- p -->\n",
       "<g id=\"node4\" class=\"node\">\n",
       "<title>p</title>\n",
       "<ellipse fill=\"white\" stroke=\"black\" cx=\"197\" cy=\"-160\" rx=\"27\" ry=\"18\"/>\n",
       "<text text-anchor=\"middle\" x=\"197\" y=\"-156.3\" font-family=\"Times,serif\" font-size=\"14.00\">p</text>\n",
       "</g>\n",
       "<!-- obs -->\n",
       "<g id=\"node7\" class=\"node\">\n",
       "<title>obs</title>\n",
       "<ellipse fill=\"grey\" stroke=\"black\" cx=\"125\" cy=\"-88\" rx=\"27\" ry=\"18\"/>\n",
       "<text text-anchor=\"middle\" x=\"125\" y=\"-84.3\" font-family=\"Times,serif\" font-size=\"14.00\">obs</text>\n",
       "</g>\n",
       "<!-- p&#45;&gt;obs -->\n",
       "<g id=\"edge5\" class=\"edge\">\n",
       "<title>p&#45;&gt;obs</title>\n",
       "<path fill=\"none\" stroke=\"black\" d=\"M182.43,-144.83C172.25,-134.94 158.48,-121.55 146.97,-110.36\"/>\n",
       "<polygon fill=\"black\" stroke=\"black\" points=\"149.41,-107.85 139.8,-103.38 144.53,-112.87 149.41,-107.85\"/>\n",
       "</g>\n",
       "<!-- alpha -->\n",
       "<g id=\"node5\" class=\"node\">\n",
       "<title>alpha</title>\n",
       "<ellipse fill=\"white\" stroke=\"black\" cx=\"116\" cy=\"-270.5\" rx=\"29.8\" ry=\"18\"/>\n",
       "<text text-anchor=\"middle\" x=\"116\" y=\"-266.8\" font-family=\"Times,serif\" font-size=\"14.00\">alpha</text>\n",
       "</g>\n",
       "<!-- alpha&#45;&gt;beta -->\n",
       "<g id=\"edge4\" class=\"edge\">\n",
       "<title>alpha&#45;&gt;beta</title>\n",
       "<path fill=\"none\" stroke=\"black\" d=\"M117.45,-252.07C118.88,-234.8 121.09,-208.12 122.75,-188.09\"/>\n",
       "<polygon fill=\"black\" stroke=\"black\" points=\"126.25,-188.29 123.59,-178.03 119.27,-187.71 126.25,-188.29\"/>\n",
       "</g>\n",
       "<!-- alpha&#45;&gt;obs -->\n",
       "<g id=\"edge6\" class=\"edge\">\n",
       "<title>alpha&#45;&gt;obs</title>\n",
       "<path fill=\"none\" stroke=\"black\" d=\"M107.31,-253.16C95.44,-228.67 76.96,-181.14 89,-142 92.29,-131.31 98.54,-120.85 104.93,-112.08\"/>\n",
       "<polygon fill=\"black\" stroke=\"black\" points=\"107.88,-113.98 111.25,-103.93 102.35,-109.69 107.88,-113.98\"/>\n",
       "</g>\n",
       "<!-- beta&#45;&gt;obs -->\n",
       "<g id=\"edge7\" class=\"edge\">\n",
       "<title>beta&#45;&gt;obs</title>\n",
       "<path fill=\"none\" stroke=\"black\" d=\"M125,-141.7C125,-133.98 125,-124.71 125,-116.11\"/>\n",
       "<polygon fill=\"black\" stroke=\"black\" points=\"128.5,-116.1 125,-106.1 121.5,-116.1 128.5,-116.1\"/>\n",
       "</g>\n",
       "<!-- distribution_description_node -->\n",
       "<g id=\"node8\" class=\"node\">\n",
       "<title>distribution_description_node</title>\n",
       "<text text-anchor=\"start\" x=\"418.5\" y=\"-311.8\" font-family=\"Times,serif\" font-size=\"14.00\">a0 ~ Uniform</text>\n",
       "<text text-anchor=\"start\" x=\"418.5\" y=\"-296.8\" font-family=\"Times,serif\" font-size=\"14.00\">a1 ~ Uniform</text>\n",
       "<text text-anchor=\"start\" x=\"418.5\" y=\"-281.8\" font-family=\"Times,serif\" font-size=\"14.00\">betavar ~ InverseGamma</text>\n",
       "<text text-anchor=\"start\" x=\"418.5\" y=\"-266.8\" font-family=\"Times,serif\" font-size=\"14.00\">p ~ Uniform</text>\n",
       "<text text-anchor=\"start\" x=\"418.5\" y=\"-251.8\" font-family=\"Times,serif\" font-size=\"14.00\">alpha ~ Gamma</text>\n",
       "<text text-anchor=\"start\" x=\"418.5\" y=\"-236.8\" font-family=\"Times,serif\" font-size=\"14.00\">beta ~ LogNormal</text>\n",
       "<text text-anchor=\"start\" x=\"418.5\" y=\"-221.8\" font-family=\"Times,serif\" font-size=\"14.00\">obs ~ BernoulliGamma</text>\n",
       "</g>\n",
       "</g>\n",
       "</svg>\n"
      ],
      "text/plain": [
       "<graphviz.graphs.Digraph at 0x7f3984481160>"
      ]
     },
     "execution_count": 8,
     "metadata": {},
     "output_type": "execute_result"
    }
   ],
   "source": [
    "numpyro.render_model(\n",
    "    parametric_dependency_model, model_args=(jdata,), render_distributions=True\n",
    ")"
   ]
  },
  {
   "cell_type": "code",
   "execution_count": 9,
   "id": "96145145-97b3-4caf-b17f-43f3600ae85a",
   "metadata": {},
   "outputs": [
    {
     "name": "stdout",
     "output_type": "stream",
     "text": [
      "Trace Shapes:           \n",
      " Param Sites:           \n",
      "Sample Sites:           \n",
      "      a0 dist          |\n",
      "        value          |\n",
      "      a1 dist          |\n",
      "        value          |\n",
      " betavar dist          |\n",
      "        value          |\n",
      " Months plate        2 |\n",
      "  Sites plate        5 |\n",
      "       p dist      2 5 |\n",
      "        value      2 5 |\n",
      "   alpha dist      2 5 |\n",
      "        value      2 5 |\n",
      "    beta dist      2 5 |\n",
      "        value      2 5 |\n",
      "     obs dist      2 5 |\n",
      "        value 1000 2 5 |\n"
     ]
    }
   ],
   "source": [
    "with numpyro.handlers.seed(rng_seed=1):\n",
    "    trace = numpyro.handlers.trace(parametric_dependency_model).get_trace(jdata)\n",
    "print(numpyro.util.format_shapes(trace))"
   ]
  },
  {
   "cell_type": "code",
   "execution_count": 10,
   "id": "6991336f-3138-4c9d-9433-d856ccd234e5",
   "metadata": {
    "tags": []
   },
   "outputs": [
    {
     "name": "stderr",
     "output_type": "stream",
     "text": [
      "/tmp/ipykernel_21010/1994205226.py:21: UserWarning: Missing a plate statement for batch dimension -3 at site 'obs'. You can use `numpyro.util.format_shapes` utility to check shapes at all sites of your model.\n",
      "  mcmc.run(rng_key_, jdata)\n",
      "sample: 100%|██████████| 3000/3000 [00:46<00:00, 64.58it/s, 63 steps of size 5.88e-02. acc. prob=0.91] \n"
     ]
    },
    {
     "name": "stdout",
     "output_type": "stream",
     "text": [
      "\n",
      "                mean       std    median      5.0%     95.0%     n_eff     r_hat\n",
      "        a0     -4.10      1.09     -4.08     -5.87     -2.44    581.40      1.00\n",
      "        a1      4.01      1.51      3.97      1.65      6.34    584.84      1.00\n",
      "alpha[0,0]      0.64      0.03      0.64      0.59      0.69   1609.40      1.00\n",
      "alpha[0,1]      0.64      0.03      0.64      0.59      0.69   1537.34      1.00\n",
      "alpha[0,2]      0.78      0.04      0.78      0.72      0.84   1453.82      1.00\n",
      "alpha[0,3]      0.83      0.04      0.83      0.77      0.90   1239.12      1.00\n",
      "alpha[0,4]      0.68      0.04      0.68      0.63      0.74   1791.30      1.00\n",
      "alpha[1,0]      0.68      0.03      0.67      0.62      0.72   1272.57      1.00\n",
      "alpha[1,1]      0.66      0.03      0.66      0.61      0.71   1631.97      1.00\n",
      "alpha[1,2]      0.79      0.04      0.79      0.73      0.85   1201.41      1.00\n",
      "alpha[1,3]      0.86      0.04      0.86      0.79      0.92   1310.76      1.00\n",
      "alpha[1,4]      0.67      0.03      0.67      0.61      0.72   1950.17      1.00\n",
      " beta[0,0]      0.21      0.01      0.21      0.19      0.23   1647.49      1.00\n",
      " beta[0,1]      0.23      0.02      0.23      0.20      0.26   1616.98      1.00\n",
      " beta[0,2]      0.35      0.02      0.35      0.31      0.38   1516.41      1.00\n",
      " beta[0,3]      0.70      0.05      0.70      0.62      0.77   1379.00      1.00\n",
      " beta[0,4]      0.34      0.03      0.34      0.30      0.38   1705.52      1.00\n",
      " beta[1,0]      0.18      0.01      0.18      0.16      0.20   1484.16      1.00\n",
      " beta[1,1]      0.21      0.01      0.21      0.19      0.23   1627.85      1.00\n",
      " beta[1,2]      0.25      0.02      0.25      0.22      0.27   1613.00      1.00\n",
      " beta[1,3]      0.57      0.04      0.57      0.51      0.63   1631.72      1.00\n",
      " beta[1,4]      0.28      0.02      0.28      0.25      0.32   1962.91      1.00\n",
      "   betavar      0.32      0.11      0.30      0.16      0.47    966.74      1.00\n",
      "    p[0,0]      0.68      0.01      0.68      0.66      0.70   2656.03      1.00\n",
      "    p[0,1]      0.61      0.02      0.60      0.58      0.63   2698.13      1.00\n",
      "    p[0,2]      0.62      0.02      0.62      0.59      0.64   2534.47      1.00\n",
      "    p[0,3]      0.61      0.02      0.61      0.58      0.64   2585.61      1.00\n",
      "    p[0,4]      0.56      0.02      0.56      0.53      0.58   2519.23      1.00\n",
      "    p[1,0]      0.82      0.01      0.82      0.80      0.84   2847.06      1.00\n",
      "    p[1,1]      0.61      0.01      0.61      0.58      0.63   2919.56      1.00\n",
      "    p[1,2]      0.71      0.01      0.71      0.68      0.73   3157.14      1.00\n",
      "    p[1,3]      0.66      0.01      0.66      0.63      0.68   2956.20      1.00\n",
      "    p[1,4]      0.57      0.02      0.57      0.55      0.60   2693.88      1.00\n",
      "\n",
      "Number of divergences: 5\n",
      "Time Taken: 51.09327271580696\n"
     ]
    }
   ],
   "source": [
    "# Numpyro syntax for running MCMC\n",
    "starttime = timeit.default_timer()\n",
    "\n",
    "# Start from this source of randomness. We will split keys for subsequent operations.\n",
    "rng_key = random.PRNGKey(0)\n",
    "rng_key, rng_key_ = random.split(rng_key)\n",
    "\n",
    "# Run NUTS.\n",
    "kernel = NUTS(parametric_dependency_model)\n",
    "# kernel = HMC(parametric_dependency_model)\n",
    "# kernel = BarkerMH(parametric_dependency_model)\n",
    "num_samples = 2000\n",
    "num_warmup = 1000\n",
    "mcmc = MCMC(\n",
    "    kernel,\n",
    "    num_warmup=num_warmup,\n",
    "    num_samples=num_samples,\n",
    "    #    chain_method=\"vectorized\",\n",
    "    num_chains=1,\n",
    ")\n",
    "mcmc.run(rng_key_, jdata)\n",
    "mcmc.print_summary()\n",
    "samples_1 = mcmc.get_samples()\n",
    "\n",
    "print(\"Time Taken:\", timeit.default_timer() - starttime)"
   ]
  },
  {
   "cell_type": "code",
   "execution_count": 11,
   "id": "7e4a3cd9-6019-4ab9-b03a-2d36409b881a",
   "metadata": {},
   "outputs": [
    {
     "data": {
      "text/plain": [
       "<matplotlib.legend.Legend at 0x7f39d1aca9d0>"
      ]
     },
     "execution_count": 11,
     "metadata": {},
     "output_type": "execute_result"
    },
    {
     "data": {
      "image/png": "[encoded data removed]",
      "text/plain": [
       "<Figure size 720x720 with 1 Axes>"
      ]
     },
     "metadata": {
      "needs_background": "light"
     },
     "output_type": "display_data"
    }
   ],
   "source": [
    "# Plotting the PDFs estimated for 2 different sites for January and February (The credible interval containing 95% of expected variation is also plotted)\n",
    "data_list = [jan_data[:1000, :], feb_data[:1000, :]]\n",
    "\n",
    "for k in np.arange(0, 2, 1):\n",
    "    for j in np.arange(0, 2, 1):\n",
    "\n",
    "        ps = jnp.expand_dims(samples_1[f\"p\"], -1)[:, k, j]\n",
    "        alphas = jnp.expand_dims(samples_1[f\"alpha\"], -1)[:, k, j]\n",
    "        scales = jnp.reciprocal(jnp.expand_dims(samples_1[f\"beta\"], -1))[:, k, j]\n",
    "\n",
    "        bins = np.arange(0, 5, 0.1)\n",
    "        bin_centers = bins + bins[1] / 2\n",
    "\n",
    "        likelihood_values = ps * jgamma.pdf(bin_centers, a=alphas, loc=0, scale=scales)\n",
    "\n",
    "        zero_likelihood_values = 1 - ps\n",
    "\n",
    "        mean_l = jnp.mean(jnp.array(likelihood_values), axis=0)\n",
    "        hpdi_l = hpdi(jnp.array(likelihood_values), 0.95)\n",
    "        lower_l = hpdi_l[0]\n",
    "        upper_l = hpdi_l[1]\n",
    "\n",
    "        zero_mean_l = jnp.mean(jnp.array(zero_likelihood_values), axis=0)\n",
    "        zero_hpdi_l = hpdi(jnp.array(zero_likelihood_values), 0.95)\n",
    "        zero_lower_l = zero_hpdi_l[0]\n",
    "        zero_upper_l = zero_hpdi_l[1]\n",
    "        zero_lower_error = zero_mean_l - zero_lower_l\n",
    "        zero_upper_error = zero_upper_l - zero_mean_l\n",
    "        error = np.array([zero_lower_error[0], zero_upper_error[0]]).reshape(2, 1)\n",
    "\n",
    "        data = data_list[k][:, j]\n",
    "        bin_width = bins[1] - bins[0]\n",
    "        p_data = len(data[data != 0]) / len(data)\n",
    "        weight_value = p_data / bin_width / len(data[data != 0])\n",
    "        weights = np.full(len(data[data != 0]), weight_value)\n",
    "\n",
    "        color = next(plt.gca()._get_lines.prop_cycler)[\"color\"]\n",
    "\n",
    "        plt.hist(\n",
    "            data[data != 0],\n",
    "            bins=bins,\n",
    "            histtype=\"step\",\n",
    "            stacked=True,\n",
    "            fill=False,\n",
    "            weights=weights,\n",
    "            color=color,\n",
    "        )\n",
    "\n",
    "        plt.plot(bin_centers, mean_l, color=color)\n",
    "        plt.fill_between(bin_centers, y1=lower_l, y2=upper_l, alpha=0.4, color=color)\n",
    "\n",
    "        plt.plot(0, 1 - ps.mean(), marker=\"o\", color=color)\n",
    "        plt.errorbar(\n",
    "            0,\n",
    "            zero_mean_l,\n",
    "            yerr=error,\n",
    "            capsize=3,\n",
    "            color=color,\n",
    "            label=f\"month={k},site={j}\",\n",
    "        )\n",
    "\n",
    "plt.xlabel(\"Snowfall\")\n",
    "plt.ylabel(\"Likelihood\")\n",
    "plt.legend()"
   ]
  },
  {
   "cell_type": "code",
   "execution_count": 12,
   "id": "f2b79d3e-f056-4b83-aea7-ec92d73e6a6b",
   "metadata": {},
   "outputs": [
    {
     "data": {
      "text/plain": [
       "<matplotlib.legend.Legend at 0x7f39d0fc55e0>"
      ]
     },
     "execution_count": 12,
     "metadata": {},
     "output_type": "execute_result"
    },
    {
     "data": {
      "image/png": "[encoded data removed]",
      "text/plain": [
       "<Figure size 720x720 with 1 Axes>"
      ]
     },
     "metadata": {
      "needs_background": "light"
     },
     "output_type": "display_data"
    }
   ],
   "source": [
    "# Examining the parametric relationship between Alpha and Beta\n",
    "\n",
    "alpha_mean_list = []\n",
    "a0 = jnp.expand_dims(samples_1[f\"a0\"], -1)\n",
    "a1 = jnp.expand_dims(samples_1[f\"a1\"], -1)\n",
    "betavar = jnp.expand_dims(samples_1[f\"betavar\"], -1)\n",
    "for k in np.arange(0, 2, 1):\n",
    "    color = next(plt.gca()._get_lines.prop_cycler)[\"color\"]\n",
    "    for j in np.arange(0, 50, 1):\n",
    "        alphas = jnp.expand_dims(samples_1[f\"alpha\"][:, k, j], -1)\n",
    "        alpha_mean_list.append(jnp.mean(alphas))\n",
    "        betas = jnp.expand_dims(samples_1[f\"beta\"][:, k, j], -1)\n",
    "        plt.plot(\n",
    "            jnp.mean(alphas),\n",
    "            jnp.mean(jnp.log(betas)),\n",
    "            marker=\"o\",\n",
    "            color=color,\n",
    "            label=f\"month: {k}\",\n",
    "        )\n",
    "\n",
    "x = [jnp.min(jnp.array(alpha_mean_list)), jnp.max(jnp.array(alpha_mean_list))]\n",
    "y = jnp.mean(a0) + jnp.mean(a1) * jnp.array(x)\n",
    "color = next(plt.gca()._get_lines.prop_cycler)[\"color\"]\n",
    "plt.plot(x, y, label=\"Relationship based on a0 and a1\", color=color)\n",
    "plt.fill_between(\n",
    "    x,\n",
    "    y1=y - jnp.mean(betavar),\n",
    "    y2=y + jnp.mean(betavar),\n",
    "    alpha=0.4,\n",
    "    color=color,\n",
    ")\n",
    "plt.xlabel(\"Alpha\")\n",
    "plt.ylabel(\"Log-Beta\")\n",
    "# Below is some code for plotting a non-repeating legend\n",
    "handles, labels = plt.gca().get_legend_handles_labels()\n",
    "by_label = dict(zip(labels, handles))\n",
    "plt.legend(by_label.values(), by_label.keys())"
   ]
  },
  {
   "cell_type": "code",
   "execution_count": null,
   "id": "965f1ebf-abbf-449d-b82a-80561f73aae8",
   "metadata": {},
   "outputs": [],
   "source": []
  }
 ],
 "metadata": {
  "kernelspec": {
   "display_name": "bc",
   "language": "python",
   "name": "bc-python"
  },
  "language_info": {
   "codemirror_mode": {
    "name": "ipython",
    "version": 3
   },
   "file_extension": ".py",
   "mimetype": "text/x-python",
   "name": "python",
   "nbconvert_exporter": "python",
   "pygments_lexer": "ipython3",
   "version": "3.9.7"
  }
 },
 "nbformat": 4,
 "nbformat_minor": 5
}
