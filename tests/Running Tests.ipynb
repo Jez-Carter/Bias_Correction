{
 "cells": [
  {
   "cell_type": "code",
   "execution_count": null,
   "id": "ad30fc82-8c8e-4bf3-b057-8b452eb1909f",
   "metadata": {},
   "outputs": [
    {
     "name": "stdout",
     "output_type": "stream",
     "text": [
      "\u001b[1m============================= test session starts ==============================\u001b[0m\n",
      "platform linux -- Python 3.9.6, pytest-7.0.1, pluggy-1.0.0\n",
      "rootdir: /data/notebooks/jupyterlab-biascorrlab\n",
      "plugins: anyio-3.3.0\n",
      "collected 1 item                                                               \u001b[0m\u001b[1m\n",
      "\n",
      "test_bernoulligamma.py \u001b[32m.\u001b[0m\u001b[33m                                                 [100%]\u001b[0m\n",
      "\n",
      "\u001b[33m=============================== warnings summary ===============================\u001b[0m\n",
      "../../../../opt/conda/lib/python3.9/site-packages/flatbuffers/compat.py:19\n",
      "  /opt/conda/lib/python3.9/site-packages/flatbuffers/compat.py:19: DeprecationWarning: the imp module is deprecated in favour of importlib; see the module's documentation for alternative uses\n",
      "    import imp\n",
      "\n",
      "-- Docs: https://docs.pytest.org/en/stable/how-to/capture-warnings.html\n",
      "\u001b[33m========================= \u001b[32m1 passed\u001b[0m, \u001b[33m\u001b[1m1 warning\u001b[0m\u001b[33m in 1.30s\u001b[0m\u001b[33m =========================\u001b[0m\n"
     ]
    }
   ],
   "source": [
    "!pytest test_bernoulligamma.py"
   ]
  },
  {
   "cell_type": "code",
   "execution_count": null,
   "id": "04b27346-3020-47d8-b7b8-da1153a929c9",
   "metadata": {},
   "outputs": [],
   "source": []
  }
 ],
 "metadata": {
  "kernelspec": {
   "display_name": "bc",
   "language": "python",
   "name": "bc-python"
  },
  "language_info": {
   "codemirror_mode": {
    "name": "ipython",
    "version": 3
   },
   "file_extension": ".py",
   "mimetype": "text/x-python",
   "name": "python",
   "nbconvert_exporter": "python",
   "pygments_lexer": "ipython3",
   "version": "3.9.7"
  }
 },
 "nbformat": 4,
 "nbformat_minor": 5
}
