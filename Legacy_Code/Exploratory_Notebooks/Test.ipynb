{
 "cells": [
  {
   "cell_type": "code",
   "execution_count": 2,
   "metadata": {},
   "outputs": [],
   "source": [
    "#Importing Packages\n",
    "\n",
    "import jax\n",
    "from jax import random\n",
    "import numpyro\n",
    "import numpyro.distributions as dist\n",
    "from src.model_fitting_functions import run_inference\n",
    "\n",
    "rng_key = random.PRNGKey(0)\n",
    "rng_key, rng_key_ = random.split(rng_key)\n",
    "jax.config.update(\"jax_enable_x64\", True)"
   ]
  },
  {
   "cell_type": "code",
   "execution_count": 2,
   "metadata": {},
   "outputs": [
    {
     "name": "stderr",
     "output_type": "stream",
     "text": [
      "sample: 100%|██████████| 3000/3000 [00:04<00:00, 675.28it/s, 3 steps of size 8.08e-01. acc. prob=0.94] \n"
     ]
    },
    {
     "name": "stdout",
     "output_type": "stream",
     "text": [
      "\n",
      "                mean       std    median      5.0%     95.0%     n_eff     r_hat\n",
      "      mean      2.99      0.00      2.99      2.99      3.00    826.73      1.00\n",
      "\n",
      "Number of divergences: 0\n",
      "Time Taken: 5.522990621626377\n"
     ]
    },
    {
     "name": "stderr",
     "output_type": "stream",
     "text": [
      "sample: 100%|██████████| 3000/3000 [00:04<00:00, 683.08it/s, 3 steps of size 8.08e-01. acc. prob=0.94] \n"
     ]
    },
    {
     "name": "stdout",
     "output_type": "stream",
     "text": [
      "\n",
      "                mean       std    median      5.0%     95.0%     n_eff     r_hat\n",
      "      mean      2.99      0.00      2.99      2.99      3.00    826.73      1.00\n",
      "\n",
      "Number of divergences: 0\n",
      "Time Taken: 4.443356931209564\n"
     ]
    },
    {
     "name": "stderr",
     "output_type": "stream",
     "text": [
      "sample: 100%|██████████| 3000/3000 [00:04<00:00, 676.81it/s, 3 steps of size 8.08e-01. acc. prob=0.94] \n"
     ]
    },
    {
     "name": "stdout",
     "output_type": "stream",
     "text": [
      "\n",
      "                mean       std    median      5.0%     95.0%     n_eff     r_hat\n",
      "      mean      2.99      0.00      2.99      2.99      3.00    826.73      1.00\n",
      "\n",
      "Number of divergences: 0\n",
      "Time Taken: 4.485777102410793\n"
     ]
    },
    {
     "name": "stderr",
     "output_type": "stream",
     "text": [
      "sample: 100%|██████████| 3000/3000 [00:04<00:00, 668.98it/s, 3 steps of size 8.08e-01. acc. prob=0.94] \n"
     ]
    },
    {
     "name": "stdout",
     "output_type": "stream",
     "text": [
      "\n",
      "                mean       std    median      5.0%     95.0%     n_eff     r_hat\n",
      "      mean      2.99      0.00      2.99      2.99      3.00    826.73      1.00\n",
      "\n",
      "Number of divergences: 0\n",
      "Time Taken: 4.536092676222324\n"
     ]
    },
    {
     "name": "stderr",
     "output_type": "stream",
     "text": [
      "sample: 100%|██████████| 3000/3000 [00:04<00:00, 673.48it/s, 3 steps of size 8.08e-01. acc. prob=0.94] \n"
     ]
    },
    {
     "name": "stdout",
     "output_type": "stream",
     "text": [
      "\n",
      "                mean       std    median      5.0%     95.0%     n_eff     r_hat\n",
      "      mean      2.99      0.00      2.99      2.99      3.00    826.73      1.00\n",
      "\n",
      "Number of divergences: 0\n",
      "Time Taken: 4.507564276456833\n"
     ]
    },
    {
     "name": "stderr",
     "output_type": "stream",
     "text": [
      "sample: 100%|██████████| 3000/3000 [00:04<00:00, 665.95it/s, 3 steps of size 8.08e-01. acc. prob=0.94] \n"
     ]
    },
    {
     "name": "stdout",
     "output_type": "stream",
     "text": [
      "\n",
      "                mean       std    median      5.0%     95.0%     n_eff     r_hat\n",
      "      mean      2.99      0.00      2.99      2.99      3.00    826.73      1.00\n",
      "\n",
      "Number of divergences: 0\n",
      "Time Taken: 4.557116128504276\n"
     ]
    },
    {
     "name": "stderr",
     "output_type": "stream",
     "text": [
      "sample: 100%|██████████| 3000/3000 [00:04<00:00, 669.23it/s, 3 steps of size 8.08e-01. acc. prob=0.94] \n"
     ]
    },
    {
     "name": "stdout",
     "output_type": "stream",
     "text": [
      "\n",
      "                mean       std    median      5.0%     95.0%     n_eff     r_hat\n",
      "      mean      2.99      0.00      2.99      2.99      3.00    826.73      1.00\n",
      "\n",
      "Number of divergences: 0\n",
      "Time Taken: 4.535106837749481\n"
     ]
    },
    {
     "name": "stderr",
     "output_type": "stream",
     "text": [
      "sample: 100%|██████████| 3000/3000 [00:04<00:00, 658.00it/s, 3 steps of size 8.08e-01. acc. prob=0.94] "
     ]
    },
    {
     "name": "stdout",
     "output_type": "stream",
     "text": [
      "\n",
      "                mean       std    median      5.0%     95.0%     n_eff     r_hat\n",
      "      mean      2.99      0.00      2.99      2.99      3.00    826.73      1.00\n",
      "\n",
      "Number of divergences: 0\n",
      "Time Taken: 4.612306572496891\n",
      "4.53 s ± 49.8 ms per loop (mean ± std. dev. of 7 runs, 1 loop each)\n"
     ]
    },
    {
     "name": "stderr",
     "output_type": "stream",
     "text": [
      "\n"
     ]
    }
   ],
   "source": [
    "%%timeit\n",
    "prior_dist = dist.Normal(3.0,2.0)\n",
    "data = dist.Normal(3.0,0.5).sample(rng_key,(10000,))\n",
    "def model(data=None,prior_dist=None):\n",
    "\tmean = numpyro.sample(\"mean\", prior_dist)\n",
    "\tnumpyro.sample(\"obs\", dist.Normal(mean,0.5),obs=data)\n",
    "mcmc = run_inference(model, rng_key, 1000, 2000,data=data,prior_dist=prior_dist)"
   ]
  },
  {
   "cell_type": "code",
   "execution_count": 3,
   "metadata": {},
   "outputs": [
    {
     "name": "stderr",
     "output_type": "stream",
     "text": [
      "sample: 100%|██████████| 3000/3000 [00:04<00:00, 667.23it/s, 3 steps of size 8.08e-01. acc. prob=0.94] \n"
     ]
    },
    {
     "name": "stdout",
     "output_type": "stream",
     "text": [
      "\n",
      "                mean       std    median      5.0%     95.0%     n_eff     r_hat\n",
      "      mean      2.99      0.00      2.99      2.99      3.00    826.73      1.00\n",
      "\n",
      "Number of divergences: 0\n",
      "Time Taken: 4.552912652492523\n"
     ]
    },
    {
     "name": "stderr",
     "output_type": "stream",
     "text": [
      "sample: 100%|██████████| 3000/3000 [00:04<00:00, 664.45it/s, 3 steps of size 8.08e-01. acc. prob=0.94] \n"
     ]
    },
    {
     "name": "stdout",
     "output_type": "stream",
     "text": [
      "\n",
      "                mean       std    median      5.0%     95.0%     n_eff     r_hat\n",
      "      mean      2.99      0.00      2.99      2.99      3.00    826.73      1.00\n",
      "\n",
      "Number of divergences: 0\n",
      "Time Taken: 4.569091692566872\n"
     ]
    },
    {
     "name": "stderr",
     "output_type": "stream",
     "text": [
      "sample: 100%|██████████| 3000/3000 [00:04<00:00, 664.50it/s, 3 steps of size 8.08e-01. acc. prob=0.94] \n"
     ]
    },
    {
     "name": "stdout",
     "output_type": "stream",
     "text": [
      "\n",
      "                mean       std    median      5.0%     95.0%     n_eff     r_hat\n",
      "      mean      2.99      0.00      2.99      2.99      3.00    826.73      1.00\n",
      "\n",
      "Number of divergences: 0\n",
      "Time Taken: 4.567817084491253\n"
     ]
    },
    {
     "name": "stderr",
     "output_type": "stream",
     "text": [
      "sample: 100%|██████████| 3000/3000 [00:04<00:00, 663.08it/s, 3 steps of size 8.08e-01. acc. prob=0.94] \n"
     ]
    },
    {
     "name": "stdout",
     "output_type": "stream",
     "text": [
      "\n",
      "                mean       std    median      5.0%     95.0%     n_eff     r_hat\n",
      "      mean      2.99      0.00      2.99      2.99      3.00    826.73      1.00\n",
      "\n",
      "Number of divergences: 0\n",
      "Time Taken: 4.578790552914143\n"
     ]
    },
    {
     "name": "stderr",
     "output_type": "stream",
     "text": [
      "sample: 100%|██████████| 3000/3000 [00:04<00:00, 666.78it/s, 3 steps of size 8.08e-01. acc. prob=0.94] \n"
     ]
    },
    {
     "name": "stdout",
     "output_type": "stream",
     "text": [
      "\n",
      "                mean       std    median      5.0%     95.0%     n_eff     r_hat\n",
      "      mean      2.99      0.00      2.99      2.99      3.00    826.73      1.00\n",
      "\n",
      "Number of divergences: 0\n",
      "Time Taken: 4.552829645574093\n"
     ]
    },
    {
     "name": "stderr",
     "output_type": "stream",
     "text": [
      "sample: 100%|██████████| 3000/3000 [00:04<00:00, 663.41it/s, 3 steps of size 8.08e-01. acc. prob=0.94] \n"
     ]
    },
    {
     "name": "stdout",
     "output_type": "stream",
     "text": [
      "\n",
      "                mean       std    median      5.0%     95.0%     n_eff     r_hat\n",
      "      mean      2.99      0.00      2.99      2.99      3.00    826.73      1.00\n",
      "\n",
      "Number of divergences: 0\n",
      "Time Taken: 4.575467884540558\n"
     ]
    },
    {
     "name": "stderr",
     "output_type": "stream",
     "text": [
      "sample: 100%|██████████| 3000/3000 [00:04<00:00, 665.37it/s, 3 steps of size 8.08e-01. acc. prob=0.94] \n"
     ]
    },
    {
     "name": "stdout",
     "output_type": "stream",
     "text": [
      "\n",
      "                mean       std    median      5.0%     95.0%     n_eff     r_hat\n",
      "      mean      2.99      0.00      2.99      2.99      3.00    826.73      1.00\n",
      "\n",
      "Number of divergences: 0\n",
      "Time Taken: 4.562477298080921\n"
     ]
    },
    {
     "name": "stderr",
     "output_type": "stream",
     "text": [
      "sample: 100%|██████████| 3000/3000 [00:04<00:00, 662.23it/s, 3 steps of size 8.08e-01. acc. prob=0.94] "
     ]
    },
    {
     "name": "stdout",
     "output_type": "stream",
     "text": [
      "\n",
      "                mean       std    median      5.0%     95.0%     n_eff     r_hat\n",
      "      mean      2.99      0.00      2.99      2.99      3.00    826.73      1.00\n",
      "\n",
      "Number of divergences: 0\n",
      "Time Taken: 4.596668489277363\n",
      "4.58 s ± 12.7 ms per loop (mean ± std. dev. of 7 runs, 1 loop each)\n"
     ]
    },
    {
     "name": "stderr",
     "output_type": "stream",
     "text": [
      "\n"
     ]
    }
   ],
   "source": [
    "%%timeit\n",
    "data = dist.Normal(3.0,0.5).sample(rng_key,(10000,))\n",
    "def model(data=None):\n",
    "\tmean = numpyro.sample(\"mean\", dist.Normal(3.0,2.0))\n",
    "\tnumpyro.sample(\"obs\", dist.Normal(mean,0.5),obs=data)\n",
    "mcmc = run_inference(model, rng_key, 1000, 2000,data=data)"
   ]
  },
  {
   "cell_type": "code",
   "execution_count": 4,
   "metadata": {},
   "outputs": [
    {
     "name": "stderr",
     "output_type": "stream",
     "text": [
      "sample: 100%|██████████| 3000/3000 [00:04<00:00, 672.06it/s, 3 steps of size 8.08e-01. acc. prob=0.94] \n"
     ]
    },
    {
     "name": "stdout",
     "output_type": "stream",
     "text": [
      "\n",
      "                mean       std    median      5.0%     95.0%     n_eff     r_hat\n",
      "      mean      2.99      0.00      2.99      2.99      3.00    826.73      1.00\n",
      "\n",
      "Number of divergences: 0\n",
      "Time Taken: 4.517779186367989\n"
     ]
    },
    {
     "name": "stderr",
     "output_type": "stream",
     "text": [
      "sample: 100%|██████████| 3000/3000 [00:04<00:00, 675.43it/s, 3 steps of size 8.08e-01. acc. prob=0.94] \n"
     ]
    },
    {
     "name": "stdout",
     "output_type": "stream",
     "text": [
      "\n",
      "                mean       std    median      5.0%     95.0%     n_eff     r_hat\n",
      "      mean      2.99      0.00      2.99      2.99      3.00    826.73      1.00\n",
      "\n",
      "Number of divergences: 0\n",
      "Time Taken: 4.49232467263937\n"
     ]
    },
    {
     "name": "stderr",
     "output_type": "stream",
     "text": [
      "sample: 100%|██████████| 3000/3000 [00:04<00:00, 671.54it/s, 3 steps of size 8.08e-01. acc. prob=0.94] \n"
     ]
    },
    {
     "name": "stdout",
     "output_type": "stream",
     "text": [
      "\n",
      "                mean       std    median      5.0%     95.0%     n_eff     r_hat\n",
      "      mean      2.99      0.00      2.99      2.99      3.00    826.73      1.00\n",
      "\n",
      "Number of divergences: 0\n",
      "Time Taken: 4.5178977102041245\n"
     ]
    },
    {
     "name": "stderr",
     "output_type": "stream",
     "text": [
      "sample: 100%|██████████| 3000/3000 [00:04<00:00, 667.60it/s, 3 steps of size 8.08e-01. acc. prob=0.94] \n"
     ]
    },
    {
     "name": "stdout",
     "output_type": "stream",
     "text": [
      "\n",
      "                mean       std    median      5.0%     95.0%     n_eff     r_hat\n",
      "      mean      2.99      0.00      2.99      2.99      3.00    826.73      1.00\n",
      "\n",
      "Number of divergences: 0\n",
      "Time Taken: 4.546311601996422\n"
     ]
    },
    {
     "name": "stderr",
     "output_type": "stream",
     "text": [
      "sample: 100%|██████████| 3000/3000 [00:04<00:00, 661.03it/s, 3 steps of size 8.08e-01. acc. prob=0.94] \n"
     ]
    },
    {
     "name": "stdout",
     "output_type": "stream",
     "text": [
      "\n",
      "                mean       std    median      5.0%     95.0%     n_eff     r_hat\n",
      "      mean      2.99      0.00      2.99      2.99      3.00    826.73      1.00\n",
      "\n",
      "Number of divergences: 0\n",
      "Time Taken: 4.592349946498871\n"
     ]
    },
    {
     "name": "stderr",
     "output_type": "stream",
     "text": [
      "sample: 100%|██████████| 3000/3000 [00:04<00:00, 663.03it/s, 3 steps of size 8.08e-01. acc. prob=0.94] \n"
     ]
    },
    {
     "name": "stdout",
     "output_type": "stream",
     "text": [
      "\n",
      "                mean       std    median      5.0%     95.0%     n_eff     r_hat\n",
      "      mean      2.99      0.00      2.99      2.99      3.00    826.73      1.00\n",
      "\n",
      "Number of divergences: 0\n",
      "Time Taken: 4.578350380063057\n"
     ]
    },
    {
     "name": "stderr",
     "output_type": "stream",
     "text": [
      "sample: 100%|██████████| 3000/3000 [00:04<00:00, 659.67it/s, 3 steps of size 8.08e-01. acc. prob=0.94] \n"
     ]
    },
    {
     "name": "stdout",
     "output_type": "stream",
     "text": [
      "\n",
      "                mean       std    median      5.0%     95.0%     n_eff     r_hat\n",
      "      mean      2.99      0.00      2.99      2.99      3.00    826.73      1.00\n",
      "\n",
      "Number of divergences: 0\n",
      "Time Taken: 4.602227374911308\n"
     ]
    },
    {
     "name": "stderr",
     "output_type": "stream",
     "text": [
      "sample: 100%|██████████| 3000/3000 [00:04<00:00, 651.43it/s, 3 steps of size 8.08e-01. acc. prob=0.94] \n"
     ]
    },
    {
     "name": "stdout",
     "output_type": "stream",
     "text": [
      "\n",
      "                mean       std    median      5.0%     95.0%     n_eff     r_hat\n",
      "      mean      2.99      0.00      2.99      2.99      3.00    826.73      1.00\n",
      "\n",
      "Number of divergences: 0\n",
      "Time Taken: 4.660285145044327\n",
      "4.57 s ± 52.2 ms per loop (mean ± std. dev. of 7 runs, 1 loop each)\n"
     ]
    }
   ],
   "source": [
    "%%timeit\n",
    "prior_dist = dist.Normal(3.0,2.0)\n",
    "data = dist.Normal(3.0,0.5).sample(rng_key,(10000,))\n",
    "dictionary = {'data':data,'prior_dist':prior_dist}\n",
    "def model(dictionary):\n",
    "\tmean = numpyro.sample(\"mean\", dictionary['prior_dist'])\n",
    "\tnumpyro.sample(\"obs\", dist.Normal(mean,0.5),obs=dictionary['data'])\n",
    "mcmc = run_inference(model, rng_key, 1000, 2000,dictionary)"
   ]
  }
 ],
 "metadata": {
  "kernelspec": {
   "display_name": "BC",
   "language": "python",
   "name": "python3"
  },
  "language_info": {
   "codemirror_mode": {
    "name": "ipython",
    "version": 3
   },
   "file_extension": ".py",
   "mimetype": "text/x-python",
   "name": "python",
   "nbconvert_exporter": "python",
   "pygments_lexer": "ipython3",
   "version": "3.9.13"
  },
  "orig_nbformat": 4
 },
 "nbformat": 4,
 "nbformat_minor": 2
}
